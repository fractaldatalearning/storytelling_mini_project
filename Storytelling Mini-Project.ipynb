{
 "cells": [
  {
   "cell_type": "markdown",
   "id": "e5dbab56",
   "metadata": {},
   "source": [
    "# <font color='violet'>Judging a Salon by its Yelp Cover</font>\n",
    "\n",
    "A couple months ago, I completed my most daunting post-pandemic-first yet: I got my legs waxed for the first time since 2019. My favorite esthetician was nowhere to be found, so I searched reviews online to meet somebody new. \n",
    "\n",
    "I went with the salon in my city with the highest number of 5-star yelp reviews. I was anxious to get through this last 'first' and didn't seek out the advice from friends that had landed me with the true professional I'd so appreciated years ago. I put on my favorite cozy plush sweatsuit, drank some tea, and told myself that with post-pandemic uncertainty, I was making the best choice possible in a sticky situation. \n",
    "\n",
    "I left the salon absolutely sticky, with wax clinging to my calves and painfully pulling at my skin each time it bonded with and tore from the fuzzy fibers of my sweatpants. (For those unfamiliar with epilation: this is unusual. Even if hair removal is painful, the wax should be gone by the time a session is over.) I cursed myself all the way home for ignoring the folk wisdom that says most yelp reviews are definitely paid for. \n",
    "\n",
    "Now, calmer, I realize I have no idea whether all those positive reviews were paid for or if (more likely) I just had a bad experience at an otherwise decent spot. I have no easy way of knowing for sure how this dreaded salon came to appear so popular. \n",
    "\n",
    "The whole scenario brings to mind, however, one possible opportunity for demystifying Yelp reviews: anomoly detection.\n",
    "\n",
    "<font color='violet'>Did my salon have similar reviews to others with comparable characteristics?</font>\n",
    "\n",
    "If not-if my salon has significantly higher reviews than could be predicted for a business with its specific features-my suspicions may be valid!"
   ]
  },
  {
   "cell_type": "markdown",
   "id": "af383922",
   "metadata": {},
   "source": [
    "<font color='violet'>First, I'll need to get to know what data I have available.</font>\n"
   ]
  },
  {
   "cell_type": "code",
   "execution_count": 1,
   "id": "0db62b5e",
   "metadata": {},
   "outputs": [],
   "source": [
    "# Import libraries\n",
    "import pandas as pd\n",
    "import matplotlib.pyplot as plt\n",
    "import seaborn as sns\n",
    "import numpy as np\n",
    "from sklearn.preprocessing import LabelEncoder\n",
    "from sklearn.ensemble import RandomForestClassifier\n",
    "from sklearn.model_selection import train_test_split\n",
    "from sklearn import metrics\n",
    "\n",
    "from IPython.display import Audio\n",
    "sound_file = './alert.wav'"
   ]
  },
  {
   "cell_type": "code",
   "execution_count": 2,
   "id": "210d220d",
   "metadata": {},
   "outputs": [
    {
     "name": "stdout",
     "output_type": "stream",
     "text": [
      "<class 'pandas.core.frame.DataFrame'>\n",
      "RangeIndex: 150346 entries, 0 to 150345\n",
      "Data columns (total 14 columns):\n",
      " #   Column        Non-Null Count   Dtype  \n",
      "---  ------        --------------   -----  \n",
      " 0   business_id   150346 non-null  object \n",
      " 1   name          150346 non-null  object \n",
      " 2   address       150346 non-null  object \n",
      " 3   city          150346 non-null  object \n",
      " 4   state         150346 non-null  object \n",
      " 5   postal_code   150346 non-null  object \n",
      " 6   latitude      150346 non-null  float64\n",
      " 7   longitude     150346 non-null  float64\n",
      " 8   stars         150346 non-null  float64\n",
      " 9   review_count  150346 non-null  int64  \n",
      " 10  is_open       150346 non-null  int64  \n",
      " 11  attributes    136602 non-null  object \n",
      " 12  categories    150243 non-null  object \n",
      " 13  hours         127123 non-null  object \n",
      "dtypes: float64(3), int64(2), object(9)\n",
      "memory usage: 16.1+ MB\n"
     ]
    }
   ],
   "source": [
    "# Load data into a dataframe\n",
    "json_businesses = './yelp_business.json'\n",
    "json_reviews = './yelp_review.json'\n",
    "\n",
    "df = pd.read_json(json_businesses, lines=True)\n",
    "df.info()"
   ]
  },
  {
   "cell_type": "code",
   "execution_count": 3,
   "id": "fde2640b",
   "metadata": {},
   "outputs": [
    {
     "data": {
      "text/html": [
       "<div>\n",
       "<style scoped>\n",
       "    .dataframe tbody tr th:only-of-type {\n",
       "        vertical-align: middle;\n",
       "    }\n",
       "\n",
       "    .dataframe tbody tr th {\n",
       "        vertical-align: top;\n",
       "    }\n",
       "\n",
       "    .dataframe thead th {\n",
       "        text-align: right;\n",
       "    }\n",
       "</style>\n",
       "<table border=\"1\" class=\"dataframe\">\n",
       "  <thead>\n",
       "    <tr style=\"text-align: right;\">\n",
       "      <th></th>\n",
       "      <th>business_id</th>\n",
       "      <th>name</th>\n",
       "      <th>address</th>\n",
       "      <th>city</th>\n",
       "      <th>state</th>\n",
       "      <th>postal_code</th>\n",
       "      <th>latitude</th>\n",
       "      <th>longitude</th>\n",
       "      <th>stars</th>\n",
       "      <th>review_count</th>\n",
       "      <th>is_open</th>\n",
       "      <th>attributes</th>\n",
       "      <th>categories</th>\n",
       "      <th>hours</th>\n",
       "    </tr>\n",
       "  </thead>\n",
       "  <tbody>\n",
       "    <tr>\n",
       "      <th>0</th>\n",
       "      <td>Pns2l4eNsfO8kk83dixA6A</td>\n",
       "      <td>Abby Rappoport, LAC, CMQ</td>\n",
       "      <td>1616 Chapala St, Ste 2</td>\n",
       "      <td>Santa Barbara</td>\n",
       "      <td>CA</td>\n",
       "      <td>93101</td>\n",
       "      <td>34.426679</td>\n",
       "      <td>-119.711197</td>\n",
       "      <td>5.0</td>\n",
       "      <td>7</td>\n",
       "      <td>0</td>\n",
       "      <td>{'ByAppointmentOnly': 'True'}</td>\n",
       "      <td>Doctors, Traditional Chinese Medicine, Naturop...</td>\n",
       "      <td>None</td>\n",
       "    </tr>\n",
       "    <tr>\n",
       "      <th>1</th>\n",
       "      <td>mpf3x-BjTdTEA3yCZrAYPw</td>\n",
       "      <td>The UPS Store</td>\n",
       "      <td>87 Grasso Plaza Shopping Center</td>\n",
       "      <td>Affton</td>\n",
       "      <td>MO</td>\n",
       "      <td>63123</td>\n",
       "      <td>38.551126</td>\n",
       "      <td>-90.335695</td>\n",
       "      <td>3.0</td>\n",
       "      <td>15</td>\n",
       "      <td>1</td>\n",
       "      <td>{'BusinessAcceptsCreditCards': 'True'}</td>\n",
       "      <td>Shipping Centers, Local Services, Notaries, Ma...</td>\n",
       "      <td>{'Monday': '0:0-0:0', 'Tuesday': '8:0-18:30', ...</td>\n",
       "    </tr>\n",
       "    <tr>\n",
       "      <th>2</th>\n",
       "      <td>tUFrWirKiKi_TAnsVWINQQ</td>\n",
       "      <td>Target</td>\n",
       "      <td>5255 E Broadway Blvd</td>\n",
       "      <td>Tucson</td>\n",
       "      <td>AZ</td>\n",
       "      <td>85711</td>\n",
       "      <td>32.223236</td>\n",
       "      <td>-110.880452</td>\n",
       "      <td>3.5</td>\n",
       "      <td>22</td>\n",
       "      <td>0</td>\n",
       "      <td>{'BikeParking': 'True', 'BusinessAcceptsCredit...</td>\n",
       "      <td>Department Stores, Shopping, Fashion, Home &amp; G...</td>\n",
       "      <td>{'Monday': '8:0-22:0', 'Tuesday': '8:0-22:0', ...</td>\n",
       "    </tr>\n",
       "    <tr>\n",
       "      <th>3</th>\n",
       "      <td>MTSW4McQd7CbVtyjqoe9mw</td>\n",
       "      <td>St Honore Pastries</td>\n",
       "      <td>935 Race St</td>\n",
       "      <td>Philadelphia</td>\n",
       "      <td>PA</td>\n",
       "      <td>19107</td>\n",
       "      <td>39.955505</td>\n",
       "      <td>-75.155564</td>\n",
       "      <td>4.0</td>\n",
       "      <td>80</td>\n",
       "      <td>1</td>\n",
       "      <td>{'RestaurantsDelivery': 'False', 'OutdoorSeati...</td>\n",
       "      <td>Restaurants, Food, Bubble Tea, Coffee &amp; Tea, B...</td>\n",
       "      <td>{'Monday': '7:0-20:0', 'Tuesday': '7:0-20:0', ...</td>\n",
       "    </tr>\n",
       "    <tr>\n",
       "      <th>4</th>\n",
       "      <td>mWMc6_wTdE0EUBKIGXDVfA</td>\n",
       "      <td>Perkiomen Valley Brewery</td>\n",
       "      <td>101 Walnut St</td>\n",
       "      <td>Green Lane</td>\n",
       "      <td>PA</td>\n",
       "      <td>18054</td>\n",
       "      <td>40.338183</td>\n",
       "      <td>-75.471659</td>\n",
       "      <td>4.5</td>\n",
       "      <td>13</td>\n",
       "      <td>1</td>\n",
       "      <td>{'BusinessAcceptsCreditCards': 'True', 'Wheelc...</td>\n",
       "      <td>Brewpubs, Breweries, Food</td>\n",
       "      <td>{'Wednesday': '14:0-22:0', 'Thursday': '16:0-2...</td>\n",
       "    </tr>\n",
       "  </tbody>\n",
       "</table>\n",
       "</div>"
      ],
      "text/plain": [
       "              business_id                      name  \\\n",
       "0  Pns2l4eNsfO8kk83dixA6A  Abby Rappoport, LAC, CMQ   \n",
       "1  mpf3x-BjTdTEA3yCZrAYPw             The UPS Store   \n",
       "2  tUFrWirKiKi_TAnsVWINQQ                    Target   \n",
       "3  MTSW4McQd7CbVtyjqoe9mw        St Honore Pastries   \n",
       "4  mWMc6_wTdE0EUBKIGXDVfA  Perkiomen Valley Brewery   \n",
       "\n",
       "                           address           city state postal_code  \\\n",
       "0           1616 Chapala St, Ste 2  Santa Barbara    CA       93101   \n",
       "1  87 Grasso Plaza Shopping Center         Affton    MO       63123   \n",
       "2             5255 E Broadway Blvd         Tucson    AZ       85711   \n",
       "3                      935 Race St   Philadelphia    PA       19107   \n",
       "4                    101 Walnut St     Green Lane    PA       18054   \n",
       "\n",
       "    latitude   longitude  stars  review_count  is_open  \\\n",
       "0  34.426679 -119.711197    5.0             7        0   \n",
       "1  38.551126  -90.335695    3.0            15        1   \n",
       "2  32.223236 -110.880452    3.5            22        0   \n",
       "3  39.955505  -75.155564    4.0            80        1   \n",
       "4  40.338183  -75.471659    4.5            13        1   \n",
       "\n",
       "                                          attributes  \\\n",
       "0                      {'ByAppointmentOnly': 'True'}   \n",
       "1             {'BusinessAcceptsCreditCards': 'True'}   \n",
       "2  {'BikeParking': 'True', 'BusinessAcceptsCredit...   \n",
       "3  {'RestaurantsDelivery': 'False', 'OutdoorSeati...   \n",
       "4  {'BusinessAcceptsCreditCards': 'True', 'Wheelc...   \n",
       "\n",
       "                                          categories  \\\n",
       "0  Doctors, Traditional Chinese Medicine, Naturop...   \n",
       "1  Shipping Centers, Local Services, Notaries, Ma...   \n",
       "2  Department Stores, Shopping, Fashion, Home & G...   \n",
       "3  Restaurants, Food, Bubble Tea, Coffee & Tea, B...   \n",
       "4                          Brewpubs, Breweries, Food   \n",
       "\n",
       "                                               hours  \n",
       "0                                               None  \n",
       "1  {'Monday': '0:0-0:0', 'Tuesday': '8:0-18:30', ...  \n",
       "2  {'Monday': '8:0-22:0', 'Tuesday': '8:0-22:0', ...  \n",
       "3  {'Monday': '7:0-20:0', 'Tuesday': '7:0-20:0', ...  \n",
       "4  {'Wednesday': '14:0-22:0', 'Thursday': '16:0-2...  "
      ]
     },
     "execution_count": 3,
     "metadata": {},
     "output_type": "execute_result"
    }
   ],
   "source": [
    "df.head()"
   ]
  },
  {
   "cell_type": "code",
   "execution_count": 4,
   "id": "8ff5b941",
   "metadata": {},
   "outputs": [],
   "source": [
    "# Drop useless columns\n",
    "df = df.drop(columns=['address', 'latitude', 'longitude', 'hours', 'postal_code'])"
   ]
  },
  {
   "cell_type": "code",
   "execution_count": 5,
   "id": "c897c50a",
   "metadata": {},
   "outputs": [
    {
     "data": {
      "text/plain": [
       "business_id     False\n",
       "name            False\n",
       "city            False\n",
       "state           False\n",
       "stars           False\n",
       "review_count    False\n",
       "is_open         False\n",
       "attributes       True\n",
       "categories       True\n",
       "dtype: bool"
      ]
     },
     "execution_count": 5,
     "metadata": {},
     "output_type": "execute_result"
    }
   ],
   "source": [
    "# Deal with missing values\n",
    "df.isnull().any()"
   ]
  },
  {
   "cell_type": "code",
   "execution_count": 6,
   "id": "fbd594ba",
   "metadata": {},
   "outputs": [
    {
     "name": "stdout",
     "output_type": "stream",
     "text": [
      "<class 'pandas.core.frame.DataFrame'>\n",
      "Int64Index: 136601 entries, 0 to 150345\n",
      "Data columns (total 9 columns):\n",
      " #   Column        Non-Null Count   Dtype  \n",
      "---  ------        --------------   -----  \n",
      " 0   business_id   136601 non-null  object \n",
      " 1   name          136601 non-null  object \n",
      " 2   city          136601 non-null  object \n",
      " 3   state         136601 non-null  object \n",
      " 4   stars         136601 non-null  float64\n",
      " 5   review_count  136601 non-null  int64  \n",
      " 6   is_open       136601 non-null  int64  \n",
      " 7   attributes    136601 non-null  object \n",
      " 8   categories    136601 non-null  object \n",
      "dtypes: float64(1), int64(2), object(6)\n",
      "memory usage: 10.4+ MB\n"
     ]
    }
   ],
   "source": [
    "# I'm just looking for salons, to analyze the relationship between their ratings and attributes.\n",
    "# Drop any rows where the attributes or categories are missing.\n",
    "df = df.dropna()\n",
    "df.info()"
   ]
  },
  {
   "cell_type": "markdown",
   "id": "28d079b6",
   "metadata": {},
   "source": [
    "<font color='violet'>I only care about waxing salons. Cut down the data to just businesses of interest.</font>"
   ]
  },
  {
   "cell_type": "code",
   "execution_count": 7,
   "id": "c0ff2d33",
   "metadata": {},
   "outputs": [
    {
     "data": {
      "text/plain": [
       "array(['Doctors, Traditional Chinese Medicine, Naturopathic/Holistic, Acupuncture, Health & Medical, Nutritionists',\n",
       "       'Shipping Centers, Local Services, Notaries, Mailbox Centers, Printing Services',\n",
       "       'Department Stores, Shopping, Fashion, Home & Garden, Electronics, Furniture Stores',\n",
       "       ...,\n",
       "       'Shopping, Jewelry, Piercing, Toy Stores, Beauty & Spas, Accessories, Fashion',\n",
       "       'Fitness/Exercise Equipment, Eyewear & Opticians, Shopping, Sporting Goods, Bikes',\n",
       "       'Beauty & Spas, Permanent Makeup, Piercing, Tattoo'], dtype=object)"
      ]
     },
     "execution_count": 7,
     "metadata": {},
     "output_type": "execute_result"
    }
   ],
   "source": [
    "# How are categories listed?\n",
    "df['categories'].unique()"
   ]
  },
  {
   "cell_type": "code",
   "execution_count": 8,
   "id": "83fc136c",
   "metadata": {},
   "outputs": [
    {
     "data": {
      "text/plain": [
       "{'Accessories',\n",
       " 'Acne Treatment',\n",
       " 'Active Life',\n",
       " 'Acupuncture',\n",
       " 'Addiction Medicine',\n",
       " 'Adult',\n",
       " 'Adult Education',\n",
       " 'Adult Entertainment',\n",
       " 'Advertising',\n",
       " 'Aerial Fitness',\n",
       " 'Aestheticians',\n",
       " 'African',\n",
       " 'Airports',\n",
       " 'Allergists',\n",
       " 'Alternative Medicine',\n",
       " 'Amateur Sports Teams',\n",
       " 'American (New)',\n",
       " 'American (Traditional)',\n",
       " 'Animal Physical Therapy',\n",
       " 'Antiques',\n",
       " 'Apartments',\n",
       " 'Appliances',\n",
       " 'Appliances & Repair',\n",
       " 'Aquariums',\n",
       " 'Arcades',\n",
       " 'Art Classes',\n",
       " 'Art Galleries',\n",
       " 'Art Museums',\n",
       " 'Art Supplies',\n",
       " 'Arts & Crafts',\n",
       " 'Arts & Entertainment',\n",
       " 'Astrologers',\n",
       " 'Auto Customization',\n",
       " 'Auto Detailing',\n",
       " 'Auto Parts & Supplies',\n",
       " 'Auto Repair',\n",
       " 'Automotive',\n",
       " 'Ayurveda',\n",
       " 'Baby Gear & Furniture',\n",
       " 'Bakeries',\n",
       " 'Balloon Services',\n",
       " 'Barbeque',\n",
       " 'Barbers',\n",
       " 'Barre Classes',\n",
       " 'Bars',\n",
       " 'Beauty & Spas',\n",
       " 'Bed & Breakfast',\n",
       " 'Beer',\n",
       " 'Beer Bar',\n",
       " 'Bespoke Clothing',\n",
       " 'Bike Rentals',\n",
       " 'Bike Repair/Maintenance',\n",
       " 'Bikes',\n",
       " 'Bingo Halls',\n",
       " 'Blow Dry/Out Services',\n",
       " 'Boat Repair',\n",
       " 'Body Contouring',\n",
       " 'Body Shops',\n",
       " 'Books',\n",
       " 'Bookstores',\n",
       " 'Boot Camps',\n",
       " 'Boudoir Photography',\n",
       " 'Boxing',\n",
       " 'Breakfast & Brunch',\n",
       " 'Brewing Supplies',\n",
       " 'Bridal',\n",
       " 'Bubble Tea',\n",
       " 'Building Supplies',\n",
       " 'Burgers',\n",
       " 'Business Consulting',\n",
       " 'Butcher',\n",
       " 'CPR Classes',\n",
       " 'Cabinetry',\n",
       " 'Cafes',\n",
       " 'Cafeteria',\n",
       " 'Cajun/Creole',\n",
       " 'Canadian (New)',\n",
       " 'Candle Stores',\n",
       " 'Candy Stores',\n",
       " 'Cannabis Clinics',\n",
       " 'Cannabis Dispensaries',\n",
       " 'Cannabis Tours',\n",
       " 'Car Rental',\n",
       " 'Cardio Classes',\n",
       " 'Cardiologists',\n",
       " 'Cards & Stationery',\n",
       " 'Caribbean',\n",
       " 'Caricatures',\n",
       " 'Casinos',\n",
       " 'Caterers',\n",
       " 'Cheesesteaks',\n",
       " 'Child Care & Day Care',\n",
       " 'Childbirth Education',\n",
       " \"Children's Clothing\",\n",
       " \"Children's Museums\",\n",
       " 'Chinese',\n",
       " 'Chiropractors',\n",
       " 'Cigar Bars',\n",
       " 'Cinema',\n",
       " 'Circuit Training Gyms',\n",
       " 'Clothing Rental',\n",
       " 'Clowns',\n",
       " 'Cocktail Bars',\n",
       " 'Coffee & Tea',\n",
       " 'Coffee Roasteries',\n",
       " 'Colleges & Universities',\n",
       " 'Colonics',\n",
       " 'Comfort Food',\n",
       " 'Comic Books',\n",
       " 'Commercial Real Estate',\n",
       " 'Commissioned Artists',\n",
       " 'Community Gardens',\n",
       " 'Community Service/Non-Profit',\n",
       " 'Computers',\n",
       " 'Contractors',\n",
       " 'Convenience Stores',\n",
       " 'Cooking Schools',\n",
       " 'Cosmetic Dentists',\n",
       " 'Cosmetic Surgeons',\n",
       " 'Cosmetics & Beauty Supply',\n",
       " 'Cosmetology Schools',\n",
       " 'Costumes',\n",
       " 'Counseling & Mental Health',\n",
       " 'Couriers & Delivery Services',\n",
       " 'Cryotherapy',\n",
       " 'Cultural Center',\n",
       " 'Customized Merchandise',\n",
       " 'Cycling Classes',\n",
       " 'DJs',\n",
       " 'Dance Clubs',\n",
       " 'Dance Schools',\n",
       " 'Dance Studios',\n",
       " 'Dance Wear',\n",
       " 'Day Camps',\n",
       " 'Day Spas',\n",
       " 'Delis',\n",
       " 'Dental Hygienists',\n",
       " 'Dentists',\n",
       " 'Department Stores',\n",
       " 'Dermatologists',\n",
       " 'Desserts',\n",
       " 'Diagnostic Imaging',\n",
       " 'Diagnostic Services',\n",
       " 'Dietitians',\n",
       " 'Diners',\n",
       " 'Discount Store',\n",
       " 'Doctors',\n",
       " 'Dominican',\n",
       " 'Donuts',\n",
       " 'Door Sales/Installation',\n",
       " 'Doulas',\n",
       " 'Drive-In Theater',\n",
       " 'Drugstores',\n",
       " 'Dry Cleaning',\n",
       " 'Dry Cleaning & Laundry',\n",
       " 'Ear Nose & Throat',\n",
       " 'Education',\n",
       " 'Educational Services',\n",
       " 'Electricians',\n",
       " 'Electronics',\n",
       " 'Elementary Schools',\n",
       " 'Endocrinologists',\n",
       " 'Endodontists',\n",
       " 'Engraving',\n",
       " 'Estheticians',\n",
       " 'Ethnic Food',\n",
       " 'Event Photography',\n",
       " 'Event Planning & Services',\n",
       " 'Eyebrow Services',\n",
       " 'Eyelash Service',\n",
       " 'Eyewear & Opticians',\n",
       " 'Fabric Stores',\n",
       " 'Face Painting',\n",
       " 'Family Practice',\n",
       " 'Farmers Market',\n",
       " 'Fashion',\n",
       " 'Fast Food',\n",
       " 'Fertility',\n",
       " 'Festivals',\n",
       " 'Financial Services',\n",
       " 'Fitness & Instruction',\n",
       " 'Fitness/Exercise Equipment',\n",
       " 'Float Spa',\n",
       " 'Florists',\n",
       " 'Flowers & Gifts',\n",
       " 'Food',\n",
       " 'Food Court',\n",
       " 'Food Stands',\n",
       " 'Foot Care',\n",
       " 'Formal Wear',\n",
       " 'Fruits & Veggies',\n",
       " 'Furniture Reupholstery',\n",
       " 'Furniture Stores',\n",
       " 'Gas Stations',\n",
       " 'Gastroenterologist',\n",
       " 'Gastropubs',\n",
       " 'Gay Bars',\n",
       " 'General Dentistry',\n",
       " 'Gift Shops',\n",
       " 'Gluten-Free',\n",
       " 'Golf',\n",
       " 'Graphic Design',\n",
       " 'Grilling Equipment',\n",
       " 'Grocery',\n",
       " 'Guest Houses',\n",
       " 'Guns & Ammo',\n",
       " 'Gyms',\n",
       " 'Hair Extensions',\n",
       " 'Hair Loss Centers',\n",
       " 'Hair Removal',\n",
       " 'Hair Salons',\n",
       " 'Hair Stylists',\n",
       " 'Halotherapy',\n",
       " 'Hardware Stores',\n",
       " 'Hats',\n",
       " 'Head Shops',\n",
       " 'Health & Medical',\n",
       " 'Health Coach',\n",
       " 'Health Insurance Offices',\n",
       " 'Health Markets',\n",
       " 'Health Retreats',\n",
       " 'Hearing Aid Providers',\n",
       " 'Henna Artists',\n",
       " 'Herbal Shops',\n",
       " 'Herbs & Spices',\n",
       " 'High Fidelity Audio Equipment',\n",
       " 'Hiking',\n",
       " 'Historical Tours',\n",
       " 'Hobby Shops',\n",
       " 'Holistic Animal Care',\n",
       " 'Home & Garden',\n",
       " 'Home Cleaning',\n",
       " 'Home Decor',\n",
       " 'Home Health Care',\n",
       " 'Home Services',\n",
       " 'Honey',\n",
       " 'Horseback Riding',\n",
       " 'Hospitals',\n",
       " 'Hot Pot',\n",
       " 'Hot Tub & Pool',\n",
       " 'Hotels',\n",
       " 'Hotels & Travel',\n",
       " 'Hunting & Fishing Supplies',\n",
       " 'Hydrotherapy',\n",
       " 'Hypnosis/Hypnotherapy',\n",
       " 'IT Services & Computer Repair',\n",
       " 'IV Hydration',\n",
       " 'Ice Cream & Frozen Yogurt',\n",
       " 'Imported Food',\n",
       " 'Insurance',\n",
       " 'Interior Design',\n",
       " 'Internal Medicine',\n",
       " 'International Grocery',\n",
       " 'Internet Cafes',\n",
       " 'Interval Training Gyms',\n",
       " 'Irish',\n",
       " 'Italian',\n",
       " 'Japanese',\n",
       " 'Jewelry',\n",
       " 'Juice Bars & Smoothies',\n",
       " 'Junk Removal & Hauling',\n",
       " 'Karaoke',\n",
       " 'Keys & Locksmiths',\n",
       " 'Kickboxing',\n",
       " 'Kids Activities',\n",
       " 'Kids Hair Salons',\n",
       " 'Kitchen & Bath',\n",
       " 'Kitchen Supplies',\n",
       " 'Knife Sharpening',\n",
       " 'Kombucha',\n",
       " 'Korean',\n",
       " 'Laboratory Testing',\n",
       " 'Lactation Services',\n",
       " 'Landscape Architects',\n",
       " 'Landscaping',\n",
       " 'Laser Eye Surgery/Lasik',\n",
       " 'Laser Hair Removal',\n",
       " 'Laser Tag',\n",
       " 'Laundry Services',\n",
       " 'Lawyers',\n",
       " 'Leather Goods',\n",
       " 'Lice Services',\n",
       " 'Life Coach',\n",
       " 'Lighting Fixtures & Equipment',\n",
       " 'Lingerie',\n",
       " 'Local Flavor',\n",
       " 'Local Services',\n",
       " 'Lounges',\n",
       " 'Mags',\n",
       " 'Makeup Artists',\n",
       " 'Marketing',\n",
       " 'Martial Arts',\n",
       " 'Mass Media',\n",
       " 'Massage',\n",
       " 'Massage Schools',\n",
       " 'Massage Therapy',\n",
       " 'Maternity Wear',\n",
       " 'Mediators',\n",
       " 'Medical Cannabis Referrals',\n",
       " 'Medical Centers',\n",
       " 'Medical Law',\n",
       " 'Medical Spas',\n",
       " 'Medical Supplies',\n",
       " 'Meditation Centers',\n",
       " 'Mediterranean',\n",
       " \"Men's Clothing\",\n",
       " \"Men's Hair Salons\",\n",
       " 'Midwives',\n",
       " 'Mobile Phones',\n",
       " 'Motorcycle Dealers',\n",
       " 'Motorcycle Gear',\n",
       " 'Motorcycle Rental',\n",
       " 'Museums',\n",
       " 'Music & DVDs',\n",
       " 'Music & Video',\n",
       " 'Music Production Services',\n",
       " 'Music Venues',\n",
       " 'Musical Instruments & Teachers',\n",
       " 'Musicians',\n",
       " 'Nail Salons',\n",
       " 'Nail Technicians',\n",
       " 'Naturopathic/Holistic',\n",
       " 'Neurologist',\n",
       " 'Nightlife',\n",
       " 'Notaries',\n",
       " 'Nudist',\n",
       " 'Nurse Practitioner',\n",
       " 'Nurseries & Gardening',\n",
       " 'Nutritionists',\n",
       " 'Obstetricians & Gynecologists',\n",
       " 'Occupational Therapy',\n",
       " 'Office Cleaning',\n",
       " 'Office Equipment',\n",
       " 'Olive Oil',\n",
       " 'Oncologist',\n",
       " 'Ophthalmologists',\n",
       " 'Optometrists',\n",
       " 'Oral Surgeons',\n",
       " 'Organic Stores',\n",
       " 'Orthodontists',\n",
       " 'Orthopedists',\n",
       " 'Orthotics',\n",
       " 'Osteopathic Physicians',\n",
       " 'Outdoor Furniture Stores',\n",
       " 'Outdoor Gear',\n",
       " 'Outlet Stores',\n",
       " 'Oxygen Bars',\n",
       " 'Paddleboarding',\n",
       " 'Pain Management',\n",
       " 'Paint Stores',\n",
       " 'Painters',\n",
       " 'Parenting Classes',\n",
       " 'Parking',\n",
       " 'Party & Event Planning',\n",
       " 'Party Characters',\n",
       " 'Party Equipment Rentals',\n",
       " 'Party Supplies',\n",
       " 'Pediatric Dentists',\n",
       " 'Pediatricians',\n",
       " 'Performing Arts',\n",
       " 'Perfume',\n",
       " 'Periodontists',\n",
       " 'Permanent Makeup',\n",
       " 'Personal Assistants',\n",
       " 'Personal Care Services',\n",
       " 'Personal Shopping',\n",
       " 'Pest Control',\n",
       " 'Pet Groomers',\n",
       " 'Pet Services',\n",
       " 'Pet Stores',\n",
       " 'Pet Training',\n",
       " 'Pets',\n",
       " 'Pharmacy',\n",
       " 'Phlebologists',\n",
       " 'Photo Booth Rentals',\n",
       " 'Photographers',\n",
       " 'Photography Stores & Services',\n",
       " 'Physical Therapy',\n",
       " 'Piercing',\n",
       " 'Pilates',\n",
       " 'Pizza',\n",
       " 'Plastic Surgeons',\n",
       " 'Playgrounds',\n",
       " 'Plumbing',\n",
       " 'Plus Size Fashion',\n",
       " 'Podiatrists',\n",
       " 'Pole Dancing Classes',\n",
       " 'Pool & Billiards',\n",
       " 'Pool & Hot Tub Service',\n",
       " 'Pool Cleaners',\n",
       " 'Pool Halls',\n",
       " 'Pop-up Shops',\n",
       " 'Prenatal/Perinatal Care',\n",
       " 'Preschools',\n",
       " 'Preventive Medicine',\n",
       " 'Print Media',\n",
       " 'Printing Services',\n",
       " 'Private Jet Charter',\n",
       " 'Professional Services',\n",
       " 'Professional Sports Teams',\n",
       " 'Prosthodontists',\n",
       " 'Psychiatrists',\n",
       " 'Psychic Mediums',\n",
       " 'Psychics',\n",
       " 'Psychologists',\n",
       " 'Public Markets',\n",
       " 'Public Relations',\n",
       " 'Public Services & Government',\n",
       " 'Pubs',\n",
       " 'Pulmonologist',\n",
       " 'Qi Gong',\n",
       " 'Real Estate',\n",
       " 'Recording & Rehearsal Studios',\n",
       " 'Recreation Centers',\n",
       " 'Recycling Center',\n",
       " 'Reflexology',\n",
       " 'Rehabilitation Center',\n",
       " 'Reiki',\n",
       " 'Religious Organizations',\n",
       " 'Reproductive Health Services',\n",
       " 'Resorts',\n",
       " 'Restaurants',\n",
       " 'Rheumatologists',\n",
       " 'Rolfing',\n",
       " 'Rugs',\n",
       " 'Russian',\n",
       " 'Salad',\n",
       " 'Sandwiches',\n",
       " 'Sauna Installation & Repair',\n",
       " 'Saunas',\n",
       " 'Screen Printing',\n",
       " 'Seafood',\n",
       " 'Session Photography',\n",
       " 'Sewing & Alterations',\n",
       " 'Sex Therapists',\n",
       " 'Shared Office Spaces',\n",
       " 'Shoe Shine',\n",
       " 'Shoe Stores',\n",
       " 'Shopping',\n",
       " 'Shopping Centers',\n",
       " 'Skate Shops',\n",
       " 'Skin Care',\n",
       " 'Sleep Specialists',\n",
       " 'Social Clubs',\n",
       " 'Southern',\n",
       " 'Souvenir Shops',\n",
       " 'Special Education',\n",
       " 'Specialty Food',\n",
       " 'Specialty Schools',\n",
       " 'Spine Surgeons',\n",
       " 'Spiritual Shop',\n",
       " 'Sporting Goods',\n",
       " 'Sports Bars',\n",
       " 'Sports Clubs',\n",
       " 'Sports Medicine',\n",
       " 'Sports Psychologists',\n",
       " 'Sports Wear',\n",
       " 'Spray Tanning',\n",
       " 'Steakhouses',\n",
       " 'Sugaring',\n",
       " 'Supernatural Readings',\n",
       " 'Surgeons',\n",
       " 'Swimming Lessons/Schools',\n",
       " 'Swimming Pools',\n",
       " 'Swimwear',\n",
       " 'Taekwondo',\n",
       " 'Tai Chi',\n",
       " 'Talent Agencies',\n",
       " 'Tanning',\n",
       " 'Tanning Beds',\n",
       " 'Tapas/Small Plates',\n",
       " 'Tattoo',\n",
       " 'Tattoo Removal',\n",
       " 'Taxis',\n",
       " 'Tea Rooms',\n",
       " 'Teeth Whitening',\n",
       " 'Television Stations',\n",
       " 'Tennis',\n",
       " 'Thai',\n",
       " 'Threading Services',\n",
       " 'Tires',\n",
       " 'Tobacco Shops',\n",
       " 'Tours',\n",
       " 'Toy Stores',\n",
       " 'Traditional Chinese Medicine',\n",
       " 'Trainers',\n",
       " 'Trains',\n",
       " 'Transportation',\n",
       " 'Travel Services',\n",
       " 'Tui Na',\n",
       " 'Tutoring Centers',\n",
       " 'Ultrasound Imaging Centers',\n",
       " 'Undersea/Hyperbaric Medicine',\n",
       " 'Urgent Care',\n",
       " 'Used',\n",
       " 'Vape Shops',\n",
       " 'Vascular Medicine',\n",
       " 'Vegan',\n",
       " 'Vegetarian',\n",
       " 'Venues & Event Spaces',\n",
       " 'Video/Film Production',\n",
       " 'Vietnamese',\n",
       " 'Vintage & Consignment',\n",
       " 'Vitamins & Supplements',\n",
       " 'Vocational & Technical School',\n",
       " 'Walk-in Clinics',\n",
       " 'Walking Tours',\n",
       " 'Water Delivery',\n",
       " 'Water Purification Services',\n",
       " 'Waxing',\n",
       " 'Web Design',\n",
       " 'Wedding Chapels',\n",
       " 'Wedding Planning',\n",
       " 'Weight Loss Centers',\n",
       " 'Well Drilling',\n",
       " 'Whiskey Bars',\n",
       " 'Wholesale Stores',\n",
       " 'Wigs',\n",
       " 'Window Washing',\n",
       " 'Wine & Spirits',\n",
       " 'Wine Bars',\n",
       " \"Women's Clothing\",\n",
       " 'Yoga'}"
      ]
     },
     "execution_count": 8,
     "metadata": {},
     "output_type": "execute_result"
    }
   ],
   "source": [
    "# Isolate Beauty & Spas. But then, look to see if there is a more specific waxing category\n",
    "df = df[df['categories'].str.contains('Beauty & Spas')].copy()\n",
    "categories = set(df['categories'].str.split(', ').sum())\n",
    "categories"
   ]
  },
  {
   "cell_type": "code",
   "execution_count": 9,
   "id": "cea824e6",
   "metadata": {},
   "outputs": [
    {
     "data": {
      "text/plain": [
       "(2276, 8)"
      ]
     },
     "execution_count": 9,
     "metadata": {},
     "output_type": "execute_result"
    }
   ],
   "source": [
    "# Waxing is a category! Isolate that. \n",
    "df = df[df['categories'].str.contains('Waxing')].copy()\n",
    "\n",
    "# All businesses now are at least waxing spas, like mine, and my spa was *only* for waxing,\n",
    "# so I can delete the categories column. \n",
    "df = df.drop(columns='categories')\n",
    "\n",
    "df.shape"
   ]
  },
  {
   "cell_type": "markdown",
   "id": "e3683d19",
   "metadata": {},
   "source": [
    "This dataset is pretty well pared down by now. Let's do some further analysis.\n",
    "\n",
    "<font color='violet'>My salon had 4.5 stars. Is it *supposedly* above average?</font>"
   ]
  },
  {
   "cell_type": "code",
   "execution_count": 10,
   "id": "36bea62e",
   "metadata": {},
   "outputs": [
    {
     "data": {
      "text/plain": [
       "<matplotlib.lines.Line2D at 0x7fec44e58e20>"
      ]
     },
     "execution_count": 10,
     "metadata": {},
     "output_type": "execute_result"
    },
    {
     "data": {
      "image/png": "[encoded data removed]",
      "text/plain": [
       "<Figure size 500x500 with 1 Axes>"
      ]
     },
     "metadata": {},
     "output_type": "display_data"
    }
   ],
   "source": [
    "sns.displot(df, x = \"stars\", bins=9, color='violet').set(title='Distribution of Ratings', \n",
    "                                                         xlabel='rating', \n",
    "                                                         ylabel='number of businesses')\n",
    "plt.axvline(x=df['stars'].mean(), color='green', linewidth=4)"
   ]
  },
  {
   "cell_type": "markdown",
   "id": "a70676e7",
   "metadata": {},
   "source": [
    "<font color='violet'>Yep, I should have had an above-average experience! These scores do look pretty inflated, though. 4.0 average? Anyway, how does my salon stack up compared with other salons with similar attributes?</font>"
   ]
  },
  {
   "cell_type": "markdown",
   "id": "7f4fa057",
   "metadata": {},
   "source": [
    "<font color='violet'>First, I need to find out which attributes exist and find a way to easily indicate whether each business has each attribute.</font>"
   ]
  },
  {
   "cell_type": "code",
   "execution_count": 11,
   "id": "9eedecc3",
   "metadata": {},
   "outputs": [
    {
     "data": {
      "text/plain": [
       "173    {'WheelchairAccessible': 'True', 'BikeParking'...\n",
       "250    {'ByAppointmentOnly': 'False', 'BusinessAccept...\n",
       "295    {'BikeParking': 'True', 'ByAppointmentOnly': '...\n",
       "377    {'BikeParking': 'True', 'RestaurantsPriceRange...\n",
       "491    {'WiFi': 'u'free'', 'RestaurantsPriceRange2': ...\n",
       "Name: attributes, dtype: object"
      ]
     },
     "execution_count": 11,
     "metadata": {},
     "output_type": "execute_result"
    }
   ],
   "source": [
    "# What does the attributes column even look like? \n",
    "df['attributes'].head()"
   ]
  },
  {
   "cell_type": "code",
   "execution_count": 12,
   "id": "40fddb9f",
   "metadata": {},
   "outputs": [
    {
     "data": {
      "text/plain": [
       "{'WheelchairAccessible': 'True',\n",
       " 'BikeParking': 'True',\n",
       " 'BusinessParking': \"{'garage': False, 'street': False, 'validated': False, 'lot': True, 'valet': False}\",\n",
       " 'RestaurantsPriceRange2': '1',\n",
       " 'ByAppointmentOnly': 'True',\n",
       " 'BusinessAcceptsCreditCards': 'True',\n",
       " 'WiFi': \"u'free'\"}"
      ]
     },
     "execution_count": 12,
     "metadata": {},
     "output_type": "execute_result"
    }
   ],
   "source": [
    "# Attributes are stored in dictionaries. What does one business's dictionary look like?\n",
    "df.iloc[0,7]"
   ]
  },
  {
   "cell_type": "code",
   "execution_count": 13,
   "id": "37548d2b",
   "metadata": {},
   "outputs": [
    {
     "data": {
      "text/plain": [
       "{'AcceptsInsurance',\n",
       " 'Alcohol',\n",
       " 'Ambience',\n",
       " 'BestNights',\n",
       " 'BikeParking',\n",
       " 'BusinessAcceptsBitcoin',\n",
       " 'BusinessAcceptsCreditCards',\n",
       " 'BusinessParking',\n",
       " 'ByAppointmentOnly',\n",
       " 'Caters',\n",
       " 'CoatCheck',\n",
       " 'DogsAllowed',\n",
       " 'GoodForDancing',\n",
       " 'GoodForKids',\n",
       " 'HairSpecializesIn',\n",
       " 'HappyHour',\n",
       " 'HasTV',\n",
       " 'Music',\n",
       " 'NoiseLevel',\n",
       " 'OutdoorSeating',\n",
       " 'RestaurantsDelivery',\n",
       " 'RestaurantsGoodForGroups',\n",
       " 'RestaurantsPriceRange2',\n",
       " 'RestaurantsReservations',\n",
       " 'RestaurantsTableService',\n",
       " 'RestaurantsTakeOut',\n",
       " 'Smoking',\n",
       " 'WheelchairAccessible',\n",
       " 'WiFi'}"
      ]
     },
     "execution_count": 13,
     "metadata": {},
     "output_type": "execute_result"
    }
   ],
   "source": [
    "# Get a clear list of possible attributes.\n",
    "attributes = []\n",
    "for dictionary in df['attributes']:\n",
    "    attributes.append(list(dictionary.keys()))\n",
    "\n",
    "attributes = [item for sublist in attributes for item in sublist]\n",
    "set(attributes)"
   ]
  },
  {
   "cell_type": "code",
   "execution_count": 14,
   "id": "3811124c",
   "metadata": {},
   "outputs": [
    {
     "data": {
      "text/plain": [
       "Index(['business_id', 'name', 'city', 'state', 'stars', 'review_count',\n",
       "       'is_open', 'attributes', 'WheelchairAccessible', 'BikeParking',\n",
       "       'BusinessParking', 'RestaurantsPriceRange2', 'ByAppointmentOnly',\n",
       "       'BusinessAcceptsCreditCards', 'WiFi', 'BusinessAcceptsBitcoin',\n",
       "       'HairSpecializesIn', 'GoodForKids', 'AcceptsInsurance', 'NoiseLevel',\n",
       "       'OutdoorSeating', 'DogsAllowed', 'Caters', 'RestaurantsReservations',\n",
       "       'HasTV', 'CoatCheck', 'RestaurantsDelivery', 'HappyHour',\n",
       "       'RestaurantsTakeOut', 'RestaurantsTableService', 'Smoking',\n",
       "       'RestaurantsGoodForGroups', 'Alcohol', 'BestNights', 'GoodForDancing',\n",
       "       'Ambience', 'Music'],\n",
       "      dtype='object')"
      ]
     },
     "execution_count": 14,
     "metadata": {},
     "output_type": "execute_result"
    }
   ],
   "source": [
    "# Create columns for all these attributes \n",
    "df[attributes] = np.nan\n",
    "df.columns"
   ]
  },
  {
   "cell_type": "code",
   "execution_count": 15,
   "id": "3d2b213d",
   "metadata": {},
   "outputs": [
    {
     "data": {
      "text/plain": [
       "[173, 250, 295, 377, 491]"
      ]
     },
     "execution_count": 15,
     "metadata": {},
     "output_type": "execute_result"
    }
   ],
   "source": [
    "# Get row indices so I can iterate through them and fill columns with correct information.\n",
    "index = df.index.values.tolist()\n",
    "index[0:5]"
   ]
  },
  {
   "cell_type": "code",
   "execution_count": 16,
   "id": "c9a89f06",
   "metadata": {},
   "outputs": [
    {
     "data": {
      "text/html": [
       "<div>\n",
       "<style scoped>\n",
       "    .dataframe tbody tr th:only-of-type {\n",
       "        vertical-align: middle;\n",
       "    }\n",
       "\n",
       "    .dataframe tbody tr th {\n",
       "        vertical-align: top;\n",
       "    }\n",
       "\n",
       "    .dataframe thead th {\n",
       "        text-align: right;\n",
       "    }\n",
       "</style>\n",
       "<table border=\"1\" class=\"dataframe\">\n",
       "  <thead>\n",
       "    <tr style=\"text-align: right;\">\n",
       "      <th></th>\n",
       "      <th>business_id</th>\n",
       "      <th>name</th>\n",
       "      <th>city</th>\n",
       "      <th>state</th>\n",
       "      <th>stars</th>\n",
       "      <th>review_count</th>\n",
       "      <th>is_open</th>\n",
       "      <th>attributes</th>\n",
       "      <th>WheelchairAccessible</th>\n",
       "      <th>BikeParking</th>\n",
       "      <th>...</th>\n",
       "      <th>HappyHour</th>\n",
       "      <th>RestaurantsTakeOut</th>\n",
       "      <th>RestaurantsTableService</th>\n",
       "      <th>Smoking</th>\n",
       "      <th>RestaurantsGoodForGroups</th>\n",
       "      <th>Alcohol</th>\n",
       "      <th>BestNights</th>\n",
       "      <th>GoodForDancing</th>\n",
       "      <th>Ambience</th>\n",
       "      <th>Music</th>\n",
       "    </tr>\n",
       "  </thead>\n",
       "  <tbody>\n",
       "    <tr>\n",
       "      <th>173</th>\n",
       "      <td>E-nhxuu3zbt02oCj_1AFng</td>\n",
       "      <td>Selah</td>\n",
       "      <td>Tucson</td>\n",
       "      <td>AZ</td>\n",
       "      <td>5.0</td>\n",
       "      <td>60</td>\n",
       "      <td>1</td>\n",
       "      <td>{'WheelchairAccessible': 'True', 'BikeParking'...</td>\n",
       "      <td>True</td>\n",
       "      <td>True</td>\n",
       "      <td>...</td>\n",
       "      <td>NaN</td>\n",
       "      <td>NaN</td>\n",
       "      <td>NaN</td>\n",
       "      <td>NaN</td>\n",
       "      <td>NaN</td>\n",
       "      <td>NaN</td>\n",
       "      <td>NaN</td>\n",
       "      <td>NaN</td>\n",
       "      <td>NaN</td>\n",
       "      <td>NaN</td>\n",
       "    </tr>\n",
       "    <tr>\n",
       "      <th>250</th>\n",
       "      <td>my0bmPD5dgDFE1ia__LNlw</td>\n",
       "      <td>Nails &amp; Beauty Lounge</td>\n",
       "      <td>Brandon</td>\n",
       "      <td>FL</td>\n",
       "      <td>3.5</td>\n",
       "      <td>84</td>\n",
       "      <td>1</td>\n",
       "      <td>{'ByAppointmentOnly': 'False', 'BusinessAccept...</td>\n",
       "      <td>NaN</td>\n",
       "      <td>False</td>\n",
       "      <td>...</td>\n",
       "      <td>NaN</td>\n",
       "      <td>NaN</td>\n",
       "      <td>NaN</td>\n",
       "      <td>NaN</td>\n",
       "      <td>NaN</td>\n",
       "      <td>NaN</td>\n",
       "      <td>NaN</td>\n",
       "      <td>NaN</td>\n",
       "      <td>NaN</td>\n",
       "      <td>NaN</td>\n",
       "    </tr>\n",
       "    <tr>\n",
       "      <th>295</th>\n",
       "      <td>YG0OOMLP3MWYPKHpkA_mew</td>\n",
       "      <td>S&amp;K Salon</td>\n",
       "      <td>Tucson</td>\n",
       "      <td>AZ</td>\n",
       "      <td>4.0</td>\n",
       "      <td>6</td>\n",
       "      <td>0</td>\n",
       "      <td>{'BikeParking': 'True', 'ByAppointmentOnly': '...</td>\n",
       "      <td>True</td>\n",
       "      <td>True</td>\n",
       "      <td>...</td>\n",
       "      <td>NaN</td>\n",
       "      <td>NaN</td>\n",
       "      <td>NaN</td>\n",
       "      <td>NaN</td>\n",
       "      <td>NaN</td>\n",
       "      <td>NaN</td>\n",
       "      <td>NaN</td>\n",
       "      <td>NaN</td>\n",
       "      <td>NaN</td>\n",
       "      <td>NaN</td>\n",
       "    </tr>\n",
       "    <tr>\n",
       "      <th>377</th>\n",
       "      <td>7qDAeIsMVj1McNktlICETw</td>\n",
       "      <td>Contempo Hair Salon</td>\n",
       "      <td>Spring Hill</td>\n",
       "      <td>FL</td>\n",
       "      <td>4.0</td>\n",
       "      <td>7</td>\n",
       "      <td>1</td>\n",
       "      <td>{'BikeParking': 'True', 'RestaurantsPriceRange...</td>\n",
       "      <td>NaN</td>\n",
       "      <td>True</td>\n",
       "      <td>...</td>\n",
       "      <td>NaN</td>\n",
       "      <td>NaN</td>\n",
       "      <td>NaN</td>\n",
       "      <td>NaN</td>\n",
       "      <td>NaN</td>\n",
       "      <td>NaN</td>\n",
       "      <td>NaN</td>\n",
       "      <td>NaN</td>\n",
       "      <td>NaN</td>\n",
       "      <td>NaN</td>\n",
       "    </tr>\n",
       "    <tr>\n",
       "      <th>491</th>\n",
       "      <td>wRBEBZ6TvMTuwosvBa72xQ</td>\n",
       "      <td>August Pearl Salon</td>\n",
       "      <td>Nashville</td>\n",
       "      <td>TN</td>\n",
       "      <td>4.5</td>\n",
       "      <td>20</td>\n",
       "      <td>1</td>\n",
       "      <td>{'WiFi': 'u'free'', 'RestaurantsPriceRange2': ...</td>\n",
       "      <td>True</td>\n",
       "      <td>False</td>\n",
       "      <td>...</td>\n",
       "      <td>NaN</td>\n",
       "      <td>NaN</td>\n",
       "      <td>NaN</td>\n",
       "      <td>NaN</td>\n",
       "      <td>NaN</td>\n",
       "      <td>NaN</td>\n",
       "      <td>NaN</td>\n",
       "      <td>NaN</td>\n",
       "      <td>NaN</td>\n",
       "      <td>NaN</td>\n",
       "    </tr>\n",
       "  </tbody>\n",
       "</table>\n",
       "<p>5 rows × 37 columns</p>\n",
       "</div>"
      ],
      "text/plain": [
       "                business_id                   name         city state  stars  \\\n",
       "173  E-nhxuu3zbt02oCj_1AFng                  Selah       Tucson    AZ    5.0   \n",
       "250  my0bmPD5dgDFE1ia__LNlw  Nails & Beauty Lounge      Brandon    FL    3.5   \n",
       "295  YG0OOMLP3MWYPKHpkA_mew              S&K Salon       Tucson    AZ    4.0   \n",
       "377  7qDAeIsMVj1McNktlICETw    Contempo Hair Salon  Spring Hill    FL    4.0   \n",
       "491  wRBEBZ6TvMTuwosvBa72xQ     August Pearl Salon    Nashville    TN    4.5   \n",
       "\n",
       "     review_count  is_open                                         attributes  \\\n",
       "173            60        1  {'WheelchairAccessible': 'True', 'BikeParking'...   \n",
       "250            84        1  {'ByAppointmentOnly': 'False', 'BusinessAccept...   \n",
       "295             6        0  {'BikeParking': 'True', 'ByAppointmentOnly': '...   \n",
       "377             7        1  {'BikeParking': 'True', 'RestaurantsPriceRange...   \n",
       "491            20        1  {'WiFi': 'u'free'', 'RestaurantsPriceRange2': ...   \n",
       "\n",
       "    WheelchairAccessible BikeParking  ... HappyHour RestaurantsTakeOut  \\\n",
       "173                 True        True  ...       NaN                NaN   \n",
       "250                  NaN       False  ...       NaN                NaN   \n",
       "295                 True        True  ...       NaN                NaN   \n",
       "377                  NaN        True  ...       NaN                NaN   \n",
       "491                 True       False  ...       NaN                NaN   \n",
       "\n",
       "    RestaurantsTableService Smoking RestaurantsGoodForGroups Alcohol  \\\n",
       "173                     NaN     NaN                      NaN     NaN   \n",
       "250                     NaN     NaN                      NaN     NaN   \n",
       "295                     NaN     NaN                      NaN     NaN   \n",
       "377                     NaN     NaN                      NaN     NaN   \n",
       "491                     NaN     NaN                      NaN     NaN   \n",
       "\n",
       "    BestNights GoodForDancing Ambience Music  \n",
       "173        NaN            NaN      NaN   NaN  \n",
       "250        NaN            NaN      NaN   NaN  \n",
       "295        NaN            NaN      NaN   NaN  \n",
       "377        NaN            NaN      NaN   NaN  \n",
       "491        NaN            NaN      NaN   NaN  \n",
       "\n",
       "[5 rows x 37 columns]"
      ]
     },
     "execution_count": 16,
     "metadata": {},
     "output_type": "execute_result"
    }
   ],
   "source": [
    "for row in index:\n",
    "    for key, value in df.loc[row,'attributes'].items():\n",
    "        df.loc[row,key]= value\n",
    "\n",
    "df.head()"
   ]
  },
  {
   "cell_type": "code",
   "execution_count": 17,
   "id": "f7345930",
   "metadata": {},
   "outputs": [
    {
     "data": {
      "text/plain": [
       "business_id                                              E-nhxuu3zbt02oCj_1AFng\n",
       "name                                                                      Selah\n",
       "city                                                                     Tucson\n",
       "state                                                                        AZ\n",
       "stars                                                                       5.0\n",
       "review_count                                                                 60\n",
       "is_open                                                                       1\n",
       "attributes                    {'WheelchairAccessible': 'True', 'BikeParking'...\n",
       "WheelchairAccessible                                                       True\n",
       "BikeParking                                                                True\n",
       "BusinessParking               {'garage': False, 'street': False, 'validated'...\n",
       "RestaurantsPriceRange2                                                        1\n",
       "ByAppointmentOnly                                                          True\n",
       "BusinessAcceptsCreditCards                                                 True\n",
       "WiFi                                                                    u'free'\n",
       "BusinessAcceptsBitcoin                                                      NaN\n",
       "HairSpecializesIn                                                           NaN\n",
       "GoodForKids                                                                 NaN\n",
       "AcceptsInsurance                                                            NaN\n",
       "NoiseLevel                                                                  NaN\n",
       "OutdoorSeating                                                              NaN\n",
       "DogsAllowed                                                                 NaN\n",
       "Caters                                                                      NaN\n",
       "RestaurantsReservations                                                     NaN\n",
       "HasTV                                                                       NaN\n",
       "CoatCheck                                                                   NaN\n",
       "RestaurantsDelivery                                                         NaN\n",
       "HappyHour                                                                   NaN\n",
       "RestaurantsTakeOut                                                          NaN\n",
       "RestaurantsTableService                                                     NaN\n",
       "Smoking                                                                     NaN\n",
       "RestaurantsGoodForGroups                                                    NaN\n",
       "Alcohol                                                                     NaN\n",
       "BestNights                                                                  NaN\n",
       "GoodForDancing                                                              NaN\n",
       "Ambience                                                                    NaN\n",
       "Music                                                                       NaN\n",
       "Name: 173, dtype: object"
      ]
     },
     "execution_count": 17,
     "metadata": {},
     "output_type": "execute_result"
    }
   ],
   "source": [
    "df.iloc[0,:]"
   ]
  },
  {
   "cell_type": "code",
   "execution_count": 18,
   "id": "52c2f8ae",
   "metadata": {},
   "outputs": [
    {
     "data": {
      "text/plain": [
       "attributes         {'WheelchairAccessible': 'True', 'BikeParking'...\n",
       "BusinessParking    {'garage': False, 'street': False, 'validated'...\n",
       "Name: 173, dtype: object"
      ]
     },
     "execution_count": 18,
     "metadata": {},
     "output_type": "execute_result"
    }
   ],
   "source": [
    "# Some columns still contain dictionaries. Delete them. \n",
    "df.iloc[0,[7,10]]"
   ]
  },
  {
   "cell_type": "code",
   "execution_count": 19,
   "id": "95cac893",
   "metadata": {},
   "outputs": [
    {
     "data": {
      "text/html": [
       "<div>\n",
       "<style scoped>\n",
       "    .dataframe tbody tr th:only-of-type {\n",
       "        vertical-align: middle;\n",
       "    }\n",
       "\n",
       "    .dataframe tbody tr th {\n",
       "        vertical-align: top;\n",
       "    }\n",
       "\n",
       "    .dataframe thead th {\n",
       "        text-align: right;\n",
       "    }\n",
       "</style>\n",
       "<table border=\"1\" class=\"dataframe\">\n",
       "  <thead>\n",
       "    <tr style=\"text-align: right;\">\n",
       "      <th></th>\n",
       "      <th>business_id</th>\n",
       "      <th>name</th>\n",
       "      <th>city</th>\n",
       "      <th>state</th>\n",
       "      <th>stars</th>\n",
       "      <th>review_count</th>\n",
       "      <th>is_open</th>\n",
       "      <th>WheelchairAccessible</th>\n",
       "      <th>BikeParking</th>\n",
       "      <th>RestaurantsPriceRange2</th>\n",
       "      <th>...</th>\n",
       "      <th>HappyHour</th>\n",
       "      <th>RestaurantsTakeOut</th>\n",
       "      <th>RestaurantsTableService</th>\n",
       "      <th>Smoking</th>\n",
       "      <th>RestaurantsGoodForGroups</th>\n",
       "      <th>Alcohol</th>\n",
       "      <th>BestNights</th>\n",
       "      <th>GoodForDancing</th>\n",
       "      <th>Ambience</th>\n",
       "      <th>Music</th>\n",
       "    </tr>\n",
       "  </thead>\n",
       "  <tbody>\n",
       "    <tr>\n",
       "      <th>173</th>\n",
       "      <td>E-nhxuu3zbt02oCj_1AFng</td>\n",
       "      <td>Selah</td>\n",
       "      <td>Tucson</td>\n",
       "      <td>AZ</td>\n",
       "      <td>5.0</td>\n",
       "      <td>60</td>\n",
       "      <td>1</td>\n",
       "      <td>True</td>\n",
       "      <td>True</td>\n",
       "      <td>1</td>\n",
       "      <td>...</td>\n",
       "      <td>NaN</td>\n",
       "      <td>NaN</td>\n",
       "      <td>NaN</td>\n",
       "      <td>NaN</td>\n",
       "      <td>NaN</td>\n",
       "      <td>NaN</td>\n",
       "      <td>NaN</td>\n",
       "      <td>NaN</td>\n",
       "      <td>NaN</td>\n",
       "      <td>NaN</td>\n",
       "    </tr>\n",
       "    <tr>\n",
       "      <th>250</th>\n",
       "      <td>my0bmPD5dgDFE1ia__LNlw</td>\n",
       "      <td>Nails &amp; Beauty Lounge</td>\n",
       "      <td>Brandon</td>\n",
       "      <td>FL</td>\n",
       "      <td>3.5</td>\n",
       "      <td>84</td>\n",
       "      <td>1</td>\n",
       "      <td>NaN</td>\n",
       "      <td>False</td>\n",
       "      <td>2</td>\n",
       "      <td>...</td>\n",
       "      <td>NaN</td>\n",
       "      <td>NaN</td>\n",
       "      <td>NaN</td>\n",
       "      <td>NaN</td>\n",
       "      <td>NaN</td>\n",
       "      <td>NaN</td>\n",
       "      <td>NaN</td>\n",
       "      <td>NaN</td>\n",
       "      <td>NaN</td>\n",
       "      <td>NaN</td>\n",
       "    </tr>\n",
       "  </tbody>\n",
       "</table>\n",
       "<p>2 rows × 35 columns</p>\n",
       "</div>"
      ],
      "text/plain": [
       "                business_id                   name     city state  stars  \\\n",
       "173  E-nhxuu3zbt02oCj_1AFng                  Selah   Tucson    AZ    5.0   \n",
       "250  my0bmPD5dgDFE1ia__LNlw  Nails & Beauty Lounge  Brandon    FL    3.5   \n",
       "\n",
       "     review_count  is_open WheelchairAccessible BikeParking  \\\n",
       "173            60        1                 True        True   \n",
       "250            84        1                  NaN       False   \n",
       "\n",
       "    RestaurantsPriceRange2  ... HappyHour RestaurantsTakeOut  \\\n",
       "173                      1  ...       NaN                NaN   \n",
       "250                      2  ...       NaN                NaN   \n",
       "\n",
       "    RestaurantsTableService Smoking RestaurantsGoodForGroups Alcohol  \\\n",
       "173                     NaN     NaN                      NaN     NaN   \n",
       "250                     NaN     NaN                      NaN     NaN   \n",
       "\n",
       "    BestNights GoodForDancing Ambience Music  \n",
       "173        NaN            NaN      NaN   NaN  \n",
       "250        NaN            NaN      NaN   NaN  \n",
       "\n",
       "[2 rows x 35 columns]"
      ]
     },
     "execution_count": 19,
     "metadata": {},
     "output_type": "execute_result"
    }
   ],
   "source": [
    "df = df.drop(columns=df.iloc[:,[7,10]])\n",
    "df.head(2)"
   ]
  },
  {
   "cell_type": "code",
   "execution_count": 20,
   "id": "2037a54a",
   "metadata": {},
   "outputs": [
    {
     "data": {
      "text/plain": [
       "Index(['business_id', 'name', 'city', 'state', 'stars', 'review_count',\n",
       "       'is_open', 'WheelchairAccessible', 'BikeParking',\n",
       "       'RestaurantsPriceRange2', 'ByAppointmentOnly',\n",
       "       'BusinessAcceptsCreditCards', 'WiFi', 'BusinessAcceptsBitcoin',\n",
       "       'HairSpecializesIn', 'GoodForKids', 'AcceptsInsurance', 'NoiseLevel',\n",
       "       'OutdoorSeating', 'DogsAllowed', 'Caters', 'RestaurantsReservations',\n",
       "       'HasTV', 'CoatCheck', 'RestaurantsDelivery', 'HappyHour',\n",
       "       'RestaurantsTakeOut', 'RestaurantsTableService', 'Smoking',\n",
       "       'RestaurantsGoodForGroups', 'Alcohol', 'BestNights', 'GoodForDancing',\n",
       "       'Ambience', 'Music'],\n",
       "      dtype='object')"
      ]
     },
     "execution_count": 20,
     "metadata": {},
     "output_type": "execute_result"
    }
   ],
   "source": [
    "# Also delete columns that don't apply to waxing salons.\n",
    "df.columns"
   ]
  },
  {
   "cell_type": "code",
   "execution_count": 21,
   "id": "2732b93d",
   "metadata": {},
   "outputs": [
    {
     "data": {
      "text/plain": [
       "Index(['business_id', 'name', 'city', 'state', 'stars', 'review_count',\n",
       "       'is_open', 'WheelchairAccessible', 'BikeParking', 'ByAppointmentOnly',\n",
       "       'BusinessAcceptsCreditCards', 'WiFi', 'BusinessAcceptsBitcoin',\n",
       "       'NoiseLevel', 'DogsAllowed', 'HasTV', 'Smoking', 'Alcohol',\n",
       "       'BestNights', 'Ambience', 'Music'],\n",
       "      dtype='object')"
      ]
     },
     "execution_count": 21,
     "metadata": {},
     "output_type": "execute_result"
    }
   ],
   "source": [
    "df = df.drop(columns = ['RestaurantsPriceRange2', 'HairSpecializesIn', 'GoodForKids', \n",
    "                        'AcceptsInsurance', 'OutdoorSeating', 'Caters', \n",
    "                        'RestaurantsReservations', 'CoatCheck', 'RestaurantsDelivery', \n",
    "                        'HappyHour', 'RestaurantsTakeOut', 'RestaurantsTableService',\n",
    "                        'RestaurantsGoodForGroups', 'GoodForDancing'])\n",
    "df.columns"
   ]
  },
  {
   "cell_type": "markdown",
   "id": "27f033f1",
   "metadata": {},
   "source": [
    "<font color='violet'>That took a minute. Now I can easily see which businesses have which attributes. But it's not so easy for the computer. These columns need to hold numbers instead of words.</font>"
   ]
  },
  {
   "cell_type": "code",
   "execution_count": 22,
   "id": "d97ba601",
   "metadata": {},
   "outputs": [
    {
     "data": {
      "text/plain": [
       "business_id                   False\n",
       "name                          False\n",
       "city                          False\n",
       "state                         False\n",
       "stars                         False\n",
       "review_count                  False\n",
       "is_open                       False\n",
       "WheelchairAccessible           True\n",
       "BikeParking                    True\n",
       "ByAppointmentOnly              True\n",
       "BusinessAcceptsCreditCards     True\n",
       "WiFi                           True\n",
       "BusinessAcceptsBitcoin         True\n",
       "NoiseLevel                     True\n",
       "DogsAllowed                    True\n",
       "HasTV                          True\n",
       "Smoking                        True\n",
       "Alcohol                        True\n",
       "BestNights                     True\n",
       "Ambience                       True\n",
       "Music                          True\n",
       "dtype: bool"
      ]
     },
     "execution_count": 22,
     "metadata": {},
     "output_type": "execute_result"
    }
   ],
   "source": [
    "# Are there any missing values that need to be filled?\n",
    "df.isnull().any()"
   ]
  },
  {
   "cell_type": "code",
   "execution_count": 23,
   "id": "d3006163",
   "metadata": {},
   "outputs": [
    {
     "name": "stderr",
     "output_type": "stream",
     "text": [
      "/var/folders/xz/sq63wkqx22q0t_hr7_1jfrhr0000gn/T/ipykernel_8427/1956958666.py:5: FutureWarning: elementwise comparison failed; returning scalar instead, but in the future will perform elementwise comparison\n",
      "  if 'False' in df[column].unique():\n"
     ]
    },
    {
     "data": {
      "text/plain": [
       "['WheelchairAccessible',\n",
       " 'BikeParking',\n",
       " 'ByAppointmentOnly',\n",
       " 'BusinessAcceptsCreditCards',\n",
       " 'BusinessAcceptsBitcoin',\n",
       " 'DogsAllowed',\n",
       " 'HasTV']"
      ]
     },
     "execution_count": 23,
     "metadata": {},
     "output_type": "execute_result"
    }
   ],
   "source": [
    "# If a column got filled with a True/False value, \n",
    "# I can assume that a missing value should be False\n",
    "bool_cols = []\n",
    "for column in df.columns:\n",
    "    if 'False' in df[column].unique():\n",
    "        bool_cols.append(column) \n",
    "bool_cols"
   ]
  },
  {
   "cell_type": "code",
   "execution_count": 24,
   "id": "223d3c6e",
   "metadata": {},
   "outputs": [
    {
     "data": {
      "text/plain": [
       "business_id                   False\n",
       "name                          False\n",
       "city                          False\n",
       "state                         False\n",
       "stars                         False\n",
       "review_count                  False\n",
       "is_open                       False\n",
       "WheelchairAccessible          False\n",
       "BikeParking                   False\n",
       "ByAppointmentOnly             False\n",
       "BusinessAcceptsCreditCards    False\n",
       "WiFi                           True\n",
       "BusinessAcceptsBitcoin        False\n",
       "NoiseLevel                     True\n",
       "DogsAllowed                   False\n",
       "HasTV                         False\n",
       "Smoking                        True\n",
       "Alcohol                        True\n",
       "BestNights                     True\n",
       "Ambience                       True\n",
       "Music                          True\n",
       "dtype: bool"
      ]
     },
     "execution_count": 24,
     "metadata": {},
     "output_type": "execute_result"
    }
   ],
   "source": [
    "df[bool_cols] = df[bool_cols].fillna('False')\n",
    "df.isna().any()"
   ]
  },
  {
   "cell_type": "code",
   "execution_count": 25,
   "id": "ae76b004",
   "metadata": {},
   "outputs": [
    {
     "name": "stdout",
     "output_type": "stream",
     "text": [
      "Alcohol:  [nan \"u'full_bar'\" \"'none'\"]\n",
      "Smoking:  [nan \"u'outdoor'\" \"u'no'\" \"'outdoor'\" \"'no'\"]\n",
      "BestNights:  [nan\n",
      " \"{'monday': False, 'tuesday': True, 'friday': False, 'wednesday': True, 'thursday': True, 'sunday': False, 'saturday': False}\"]\n",
      "NoiseLevel:  [nan \"u'very_loud'\" \"u'average'\" \"u'quiet'\"]\n",
      "WiFi:  [\"u'free'\" nan \"u'no'\" \"u'paid'\" \"'free'\" \"'no'\" 'None']\n",
      "Ambience:  [nan\n",
      " \"{'romantic': False, 'intimate': False, 'classy': False, 'hipster': False, 'divey': False, 'touristy': False, 'trendy': False, 'upscale': False, 'casual': False}\"\n",
      " \"{'touristy': False, 'hipster': False, 'romantic': False, 'divey': False, 'intimate': False, 'trendy': False, 'upscale': True, 'classy': False, 'casual': False}\"]\n",
      "Music:  [nan\n",
      " \"{'dj': False, 'background_music': True, 'jukebox': False, 'live': False, 'video': False, 'karaoke': False}\"\n",
      " \"{'dj': False, 'background_music': False, 'no_music': False, 'jukebox': False, 'live': False, 'video': False, 'karaoke': False}\"]\n"
     ]
    }
   ],
   "source": [
    "# Figure out what's up with the rest of the columns that have mussing values.\n",
    "print('Alcohol: ', df['Alcohol'].unique())\n",
    "print('Smoking: ', df['Smoking'].unique())\n",
    "print('BestNights: ', df['BestNights'].unique())\n",
    "print('NoiseLevel: ', df['NoiseLevel'].unique())\n",
    "print('WiFi: ', df['WiFi'].unique())\n",
    "print('Ambience: ', df['Ambience'].unique())\n",
    "print('Music: ', df['Music'].unique())"
   ]
  },
  {
   "cell_type": "code",
   "execution_count": 26,
   "id": "3d0c0b34",
   "metadata": {},
   "outputs": [
    {
     "data": {
      "text/plain": [
       "Index(['business_id', 'name', 'city', 'state', 'stars', 'review_count',\n",
       "       'is_open', 'WheelchairAccessible', 'BikeParking', 'ByAppointmentOnly',\n",
       "       'BusinessAcceptsCreditCards', 'WiFi', 'BusinessAcceptsBitcoin',\n",
       "       'NoiseLevel', 'DogsAllowed', 'HasTV', 'Smoking', 'Alcohol'],\n",
       "      dtype='object')"
      ]
     },
     "execution_count": 26,
     "metadata": {},
     "output_type": "execute_result"
    }
   ],
   "source": [
    "# Missed deleting some columns with dictionaries. \n",
    "df = df.drop(columns=['BestNights','Ambience','Music'])\n",
    "df.columns"
   ]
  },
  {
   "cell_type": "code",
   "execution_count": 27,
   "id": "c7f0637b",
   "metadata": {},
   "outputs": [],
   "source": [
    "# And the options for Alcohol and Smoking make them seem unapplicable to waxing salons\n",
    "df = df.drop(columns=['Alcohol', 'Smoking'])"
   ]
  },
  {
   "cell_type": "code",
   "execution_count": 28,
   "id": "c6412cab",
   "metadata": {},
   "outputs": [
    {
     "data": {
      "text/plain": [
       "array([2, 0, 1])"
      ]
     },
     "execution_count": 28,
     "metadata": {},
     "output_type": "execute_result"
    }
   ],
   "source": [
    "# Deal with the other columns that have null values: Wifi and NoiseLevel\n",
    "# For Wifi, missing values can just get turned into 0. Other categories should be come numbers.\n",
    "df['WiFi'] = df['WiFi'].fillna(0)\n",
    "df['WiFi'] = df['WiFi'].replace({\"u'free'\":2, \"u'no'\":0, \"u'paid'\":1, \"'free'\":2, \"'no'\":0,\n",
    "                                'None':0})\n",
    "df['WiFi'].unique()"
   ]
  },
  {
   "cell_type": "code",
   "execution_count": 29,
   "id": "8a339c13",
   "metadata": {},
   "outputs": [
    {
     "data": {
      "text/plain": [
       "array([1., 3., 2.])"
      ]
     },
     "execution_count": 29,
     "metadata": {},
     "output_type": "execute_result"
    }
   ],
   "source": [
    "# Fill in missing values of the NoiseLevel column with the average, after changing \n",
    "# levels to numeric quantities. \n",
    "df['NoiseLevel'] = df['NoiseLevel'].replace({\"u'very_loud'\":3, \"u'average'\":2, \"u'quiet'\":1})\n",
    "df['NoiseLevel'] = df['NoiseLevel'].fillna(round(df['NoiseLevel'].mean()))\n",
    "df['NoiseLevel'].unique()"
   ]
  },
  {
   "cell_type": "code",
   "execution_count": 30,
   "id": "6b3e845d",
   "metadata": {},
   "outputs": [
    {
     "data": {
      "text/html": [
       "<div>\n",
       "<style scoped>\n",
       "    .dataframe tbody tr th:only-of-type {\n",
       "        vertical-align: middle;\n",
       "    }\n",
       "\n",
       "    .dataframe tbody tr th {\n",
       "        vertical-align: top;\n",
       "    }\n",
       "\n",
       "    .dataframe thead th {\n",
       "        text-align: right;\n",
       "    }\n",
       "</style>\n",
       "<table border=\"1\" class=\"dataframe\">\n",
       "  <thead>\n",
       "    <tr style=\"text-align: right;\">\n",
       "      <th></th>\n",
       "      <th>business_id</th>\n",
       "      <th>name</th>\n",
       "      <th>city</th>\n",
       "      <th>state</th>\n",
       "      <th>stars</th>\n",
       "      <th>review_count</th>\n",
       "      <th>is_open</th>\n",
       "      <th>WheelchairAccessible</th>\n",
       "      <th>BikeParking</th>\n",
       "      <th>ByAppointmentOnly</th>\n",
       "      <th>BusinessAcceptsCreditCards</th>\n",
       "      <th>WiFi</th>\n",
       "      <th>BusinessAcceptsBitcoin</th>\n",
       "      <th>NoiseLevel</th>\n",
       "      <th>DogsAllowed</th>\n",
       "      <th>HasTV</th>\n",
       "    </tr>\n",
       "  </thead>\n",
       "  <tbody>\n",
       "    <tr>\n",
       "      <th>173</th>\n",
       "      <td>E-nhxuu3zbt02oCj_1AFng</td>\n",
       "      <td>Selah</td>\n",
       "      <td>Tucson</td>\n",
       "      <td>AZ</td>\n",
       "      <td>5.0</td>\n",
       "      <td>60</td>\n",
       "      <td>1</td>\n",
       "      <td>1</td>\n",
       "      <td>1</td>\n",
       "      <td>1</td>\n",
       "      <td>1</td>\n",
       "      <td>2</td>\n",
       "      <td>0</td>\n",
       "      <td>1.0</td>\n",
       "      <td>0</td>\n",
       "      <td>0</td>\n",
       "    </tr>\n",
       "    <tr>\n",
       "      <th>250</th>\n",
       "      <td>my0bmPD5dgDFE1ia__LNlw</td>\n",
       "      <td>Nails &amp; Beauty Lounge</td>\n",
       "      <td>Brandon</td>\n",
       "      <td>FL</td>\n",
       "      <td>3.5</td>\n",
       "      <td>84</td>\n",
       "      <td>1</td>\n",
       "      <td>0</td>\n",
       "      <td>0</td>\n",
       "      <td>0</td>\n",
       "      <td>1</td>\n",
       "      <td>0</td>\n",
       "      <td>0</td>\n",
       "      <td>1.0</td>\n",
       "      <td>0</td>\n",
       "      <td>0</td>\n",
       "    </tr>\n",
       "  </tbody>\n",
       "</table>\n",
       "</div>"
      ],
      "text/plain": [
       "                business_id                   name     city state  stars  \\\n",
       "173  E-nhxuu3zbt02oCj_1AFng                  Selah   Tucson    AZ    5.0   \n",
       "250  my0bmPD5dgDFE1ia__LNlw  Nails & Beauty Lounge  Brandon    FL    3.5   \n",
       "\n",
       "     review_count  is_open  WheelchairAccessible  BikeParking  \\\n",
       "173            60        1                     1            1   \n",
       "250            84        1                     0            0   \n",
       "\n",
       "     ByAppointmentOnly  BusinessAcceptsCreditCards  WiFi  \\\n",
       "173                  1                           1     2   \n",
       "250                  0                           1     0   \n",
       "\n",
       "     BusinessAcceptsBitcoin  NoiseLevel DogsAllowed  HasTV  \n",
       "173                       0         1.0           0      0  \n",
       "250                       0         1.0           0      0  "
      ]
     },
     "execution_count": 30,
     "metadata": {},
     "output_type": "execute_result"
    }
   ],
   "source": [
    "# Replace \"True\" with 1 and \"False\" with 0 in all the columns where these appear\n",
    "df = df.replace({'True':1, 'False':0})\n",
    "df.head(2)"
   ]
  },
  {
   "cell_type": "code",
   "execution_count": 31,
   "id": "8bce7d49",
   "metadata": {},
   "outputs": [
    {
     "data": {
      "text/plain": [
       "business_id                   False\n",
       "name                          False\n",
       "city                          False\n",
       "state                         False\n",
       "stars                         False\n",
       "review_count                  False\n",
       "is_open                       False\n",
       "WheelchairAccessible          False\n",
       "BikeParking                   False\n",
       "ByAppointmentOnly             False\n",
       "BusinessAcceptsCreditCards    False\n",
       "WiFi                          False\n",
       "BusinessAcceptsBitcoin        False\n",
       "NoiseLevel                    False\n",
       "DogsAllowed                   False\n",
       "HasTV                         False\n",
       "dtype: bool"
      ]
     },
     "execution_count": 31,
     "metadata": {},
     "output_type": "execute_result"
    }
   ],
   "source": [
    "df.isnull().any()"
   ]
  },
  {
   "cell_type": "code",
   "execution_count": 32,
   "id": "7c05f719",
   "metadata": {},
   "outputs": [
    {
     "data": {
      "text/plain": [
       "business_id                    object\n",
       "name                           object\n",
       "city                           object\n",
       "state                          object\n",
       "stars                         float64\n",
       "review_count                    int64\n",
       "is_open                         int64\n",
       "WheelchairAccessible            int64\n",
       "BikeParking                     int64\n",
       "ByAppointmentOnly               int64\n",
       "BusinessAcceptsCreditCards      int64\n",
       "WiFi                            int64\n",
       "BusinessAcceptsBitcoin          int64\n",
       "NoiseLevel                    float64\n",
       "DogsAllowed                    object\n",
       "HasTV                           int64\n",
       "dtype: object"
      ]
     },
     "execution_count": 32,
     "metadata": {},
     "output_type": "execute_result"
    }
   ],
   "source": [
    "df.dtypes"
   ]
  },
  {
   "cell_type": "code",
   "execution_count": 33,
   "id": "4b22dcf6",
   "metadata": {},
   "outputs": [
    {
     "data": {
      "text/plain": [
       "array([0, 1, 'None'], dtype=object)"
      ]
     },
     "execution_count": 33,
     "metadata": {},
     "output_type": "execute_result"
    }
   ],
   "source": [
    "# DogsAllowed had no missing values but still needs to be made numeric\n",
    "df['DogsAllowed'].unique()"
   ]
  },
  {
   "cell_type": "code",
   "execution_count": 34,
   "id": "21d830fb",
   "metadata": {},
   "outputs": [],
   "source": [
    "df['DogsAllowed'] = df['DogsAllowed'].replace('None',0)"
   ]
  },
  {
   "cell_type": "markdown",
   "id": "ece4cd85",
   "metadata": {},
   "source": [
    "<font color='violet'>Now I can check out which attributes might be associated with high stars.</font>"
   ]
  },
  {
   "cell_type": "code",
   "execution_count": 35,
   "id": "34cb1ca2",
   "metadata": {},
   "outputs": [
    {
     "data": {
      "image/png": "[encoded data removed]",
      "text/plain": [
       "<Figure size 800x600 with 2 Axes>"
      ]
     },
     "metadata": {},
     "output_type": "display_data"
    }
   ],
   "source": [
    "plt.figure(figsize=(8,6))\n",
    "cmap = sns.diverging_palette(h_neg=0, h_pos=0, s=0, l=0, as_cmap=True)\n",
    "sns.heatmap(df.corr(), linewidths=.1, cmap=cmap, center=0.0, annot=True)\n",
    "plt.yticks(rotation=0);"
   ]
  },
  {
   "cell_type": "markdown",
   "id": "03bb6916",
   "metadata": {},
   "source": [
    "<font color='violet'>It looks like attribute most correlated with the number of stars are ByAppointmentOnly, WiFi, WheelchairAccessible, and BikeParking. How big of a difference does it make whether these categories are true or false?</font>"
   ]
  },
  {
   "cell_type": "code",
   "execution_count": 36,
   "id": "473977d7",
   "metadata": {},
   "outputs": [
    {
     "data": {
      "image/png": "[encoded data removed]",
      "text/plain": [
       "<Figure size 500x500 with 1 Axes>"
      ]
     },
     "metadata": {},
     "output_type": "display_data"
    }
   ],
   "source": [
    "ax = sns.catplot(data=df, x=\"ByAppointmentOnly\", y=\"stars\", kind=\"boxen\").set(\n",
    "    title='Ratings by Appointment Requirement', xlabel='appointment required', ylabel='stars')\n",
    "ax.set_xticklabels(['no', 'yes']);"
   ]
  },
  {
   "cell_type": "markdown",
   "id": "917a31ae",
   "metadata": {},
   "source": [
    "<font color='violet'>My salon allows walk-ins. Similar salons have a score of 4, not 4.5!font>"
   ]
  },
  {
   "cell_type": "code",
   "execution_count": 37,
   "id": "460ed443",
   "metadata": {},
   "outputs": [
    {
     "data": {
      "image/png": "[encoded data removed]",
      "text/plain": [
       "<Figure size 500x500 with 1 Axes>"
      ]
     },
     "metadata": {},
     "output_type": "display_data"
    }
   ],
   "source": [
    "ax = sns.catplot(data=df, x=\"WiFi\", y=\"stars\", kind=\"boxen\").set(\n",
    "    title='Ratings by WiFi Availability', xlabel='wifi status', ylabel='stars')\n",
    "ax.set_xticklabels(['no wifi', 'paid access', 'free wifi']);"
   ]
  },
  {
   "cell_type": "markdown",
   "id": "7576ceb9",
   "metadata": {},
   "source": [
    "<font color='violet'>My salon did not offer wifi. Again, the lowest category!font>"
   ]
  },
  {
   "cell_type": "code",
   "execution_count": 38,
   "id": "f62881b8",
   "metadata": {},
   "outputs": [
    {
     "data": {
      "image/png": "[encoded data removed]",
      "text/plain": [
       "<Figure size 500x500 with 1 Axes>"
      ]
     },
     "metadata": {},
     "output_type": "display_data"
    }
   ],
   "source": [
    "ax = sns.catplot(data=df, x=\"WheelchairAccessible\", y=\"stars\", kind=\"boxen\").set(\n",
    "    title='Ratings by Accessibility', xlabel='wheelchair access', ylabel='stars')\n",
    "ax.set_xticklabels(['no', 'yes']);"
   ]
  },
  {
   "cell_type": "markdown",
   "id": "4817dd2c",
   "metadata": {},
   "source": [
    "<font color='violet'>My salon was wheelchair accessible. It had ought to be!<font>"
   ]
  },
  {
   "cell_type": "code",
   "execution_count": 39,
   "id": "d258d05a",
   "metadata": {},
   "outputs": [
    {
     "data": {
      "image/png": "[encoded data removed]",
      "text/plain": [
       "<Figure size 500x500 with 1 Axes>"
      ]
     },
     "metadata": {},
     "output_type": "display_data"
    }
   ],
   "source": [
    "ax = sns.catplot(data=df, x=\"BikeParking\", y=\"stars\", kind=\"boxen\").set(\n",
    "    title='Ratings by Bike Parking Availability', xlabel='bike parking', ylabel='stars')\n",
    "ax.set_xticklabels(['no', 'yes']);"
   ]
  },
  {
   "cell_type": "markdown",
   "id": "f3a5bb51",
   "metadata": {},
   "source": [
    "My salon did have bike parking, which sets it a bit ahead of the rest. But we're getting into pretty irrelevant territory here; it hardly makes a difference whether a salon has bike parking or not! \n",
    "\n",
    "It's looking like my salon doesn't live up to its 4.5 star rating when evaluated on key attributes that set high-scoring business apart. But am I just interpreting the graphs the way I want to see them? How can I know for sure? \n",
    "\n",
    "<font color='violet'>Create a model to predict what the score of my salon would be if nothing suspicious is going on and it's not an anomoly<font>"
   ]
  },
  {
   "cell_type": "code",
   "execution_count": 40,
   "id": "2f085557",
   "metadata": {},
   "outputs": [],
   "source": [
    "# Before a computer model can make predictions, 100% of columns must be numeric\n",
    "# The business ID and name won't be helpful at all in making predictions; delete them.\n",
    "df = df.drop(columns=['business_id', 'name'])"
   ]
  },
  {
   "cell_type": "markdown",
   "id": "9aef0153",
   "metadata": {},
   "source": [
    "Next, the city and state columns need to be encoded (turned into numbers). But if Oakland isn't even one of the cities listed, just drop the cities column because it will be useless for making comparisons. "
   ]
  },
  {
   "cell_type": "code",
   "execution_count": 41,
   "id": "3d50c8e5",
   "metadata": {},
   "outputs": [
    {
     "data": {
      "text/plain": [
       "False"
      ]
     },
     "execution_count": 41,
     "metadata": {},
     "output_type": "execute_result"
    }
   ],
   "source": [
    "df['city'].str.contains('Oakland').any()"
   ]
  },
  {
   "cell_type": "code",
   "execution_count": 42,
   "id": "caf4621c",
   "metadata": {},
   "outputs": [],
   "source": [
    "df = df.drop(columns='city')"
   ]
  },
  {
   "cell_type": "code",
   "execution_count": 43,
   "id": "ef41a377",
   "metadata": {},
   "outputs": [
    {
     "data": {
      "text/plain": [
       "array([ 1,  4, 13,  7,  8, 10, 12,  3,  0, 11,  2,  9,  6,  5])"
      ]
     },
     "execution_count": 43,
     "metadata": {},
     "output_type": "execute_result"
    }
   ],
   "source": [
    "# Encode states\n",
    "ler = LabelEncoder().fit(df['state'])\n",
    "df['state']=ler.transform(df['state'])\n",
    "dico = dict(zip(ler.classes_, ler.transform(ler.classes_)))\n",
    "df['state'].unique()"
   ]
  },
  {
   "cell_type": "code",
   "execution_count": 44,
   "id": "f5bda440",
   "metadata": {},
   "outputs": [
    {
     "data": {
      "text/plain": [
       "{'AB': 0,\n",
       " 'AZ': 1,\n",
       " 'CA': 2,\n",
       " 'DE': 3,\n",
       " 'FL': 4,\n",
       " 'ID': 5,\n",
       " 'IL': 6,\n",
       " 'IN': 7,\n",
       " 'LA': 8,\n",
       " 'MO': 9,\n",
       " 'NJ': 10,\n",
       " 'NV': 11,\n",
       " 'PA': 12,\n",
       " 'TN': 13}"
      ]
     },
     "execution_count": 44,
     "metadata": {},
     "output_type": "execute_result"
    }
   ],
   "source": [
    "dico"
   ]
  },
  {
   "cell_type": "code",
   "execution_count": 45,
   "id": "fb66258b",
   "metadata": {},
   "outputs": [
    {
     "data": {
      "text/html": [
       "<div>\n",
       "<style scoped>\n",
       "    .dataframe tbody tr th:only-of-type {\n",
       "        vertical-align: middle;\n",
       "    }\n",
       "\n",
       "    .dataframe tbody tr th {\n",
       "        vertical-align: top;\n",
       "    }\n",
       "\n",
       "    .dataframe thead th {\n",
       "        text-align: right;\n",
       "    }\n",
       "</style>\n",
       "<table border=\"1\" class=\"dataframe\">\n",
       "  <thead>\n",
       "    <tr style=\"text-align: right;\">\n",
       "      <th></th>\n",
       "      <th>state</th>\n",
       "      <th>stars</th>\n",
       "      <th>review_count</th>\n",
       "      <th>is_open</th>\n",
       "      <th>WheelchairAccessible</th>\n",
       "      <th>BikeParking</th>\n",
       "      <th>ByAppointmentOnly</th>\n",
       "      <th>BusinessAcceptsCreditCards</th>\n",
       "      <th>WiFi</th>\n",
       "      <th>BusinessAcceptsBitcoin</th>\n",
       "      <th>NoiseLevel</th>\n",
       "      <th>DogsAllowed</th>\n",
       "      <th>HasTV</th>\n",
       "    </tr>\n",
       "  </thead>\n",
       "  <tbody>\n",
       "    <tr>\n",
       "      <th>173</th>\n",
       "      <td>1</td>\n",
       "      <td>5.0</td>\n",
       "      <td>60</td>\n",
       "      <td>1</td>\n",
       "      <td>1</td>\n",
       "      <td>1</td>\n",
       "      <td>1</td>\n",
       "      <td>1</td>\n",
       "      <td>2</td>\n",
       "      <td>0</td>\n",
       "      <td>1.0</td>\n",
       "      <td>0</td>\n",
       "      <td>0</td>\n",
       "    </tr>\n",
       "    <tr>\n",
       "      <th>250</th>\n",
       "      <td>4</td>\n",
       "      <td>3.5</td>\n",
       "      <td>84</td>\n",
       "      <td>1</td>\n",
       "      <td>0</td>\n",
       "      <td>0</td>\n",
       "      <td>0</td>\n",
       "      <td>1</td>\n",
       "      <td>0</td>\n",
       "      <td>0</td>\n",
       "      <td>1.0</td>\n",
       "      <td>0</td>\n",
       "      <td>0</td>\n",
       "    </tr>\n",
       "    <tr>\n",
       "      <th>295</th>\n",
       "      <td>1</td>\n",
       "      <td>4.0</td>\n",
       "      <td>6</td>\n",
       "      <td>0</td>\n",
       "      <td>1</td>\n",
       "      <td>1</td>\n",
       "      <td>0</td>\n",
       "      <td>1</td>\n",
       "      <td>0</td>\n",
       "      <td>0</td>\n",
       "      <td>1.0</td>\n",
       "      <td>0</td>\n",
       "      <td>0</td>\n",
       "    </tr>\n",
       "    <tr>\n",
       "      <th>377</th>\n",
       "      <td>4</td>\n",
       "      <td>4.0</td>\n",
       "      <td>7</td>\n",
       "      <td>1</td>\n",
       "      <td>0</td>\n",
       "      <td>1</td>\n",
       "      <td>1</td>\n",
       "      <td>1</td>\n",
       "      <td>2</td>\n",
       "      <td>0</td>\n",
       "      <td>1.0</td>\n",
       "      <td>0</td>\n",
       "      <td>0</td>\n",
       "    </tr>\n",
       "    <tr>\n",
       "      <th>491</th>\n",
       "      <td>13</td>\n",
       "      <td>4.5</td>\n",
       "      <td>20</td>\n",
       "      <td>1</td>\n",
       "      <td>1</td>\n",
       "      <td>0</td>\n",
       "      <td>0</td>\n",
       "      <td>1</td>\n",
       "      <td>2</td>\n",
       "      <td>0</td>\n",
       "      <td>1.0</td>\n",
       "      <td>0</td>\n",
       "      <td>0</td>\n",
       "    </tr>\n",
       "  </tbody>\n",
       "</table>\n",
       "</div>"
      ],
      "text/plain": [
       "     state  stars  review_count  is_open  WheelchairAccessible  BikeParking  \\\n",
       "173      1    5.0            60        1                     1            1   \n",
       "250      4    3.5            84        1                     0            0   \n",
       "295      1    4.0             6        0                     1            1   \n",
       "377      4    4.0             7        1                     0            1   \n",
       "491     13    4.5            20        1                     1            0   \n",
       "\n",
       "     ByAppointmentOnly  BusinessAcceptsCreditCards  WiFi  \\\n",
       "173                  1                           1     2   \n",
       "250                  0                           1     0   \n",
       "295                  0                           1     0   \n",
       "377                  1                           1     2   \n",
       "491                  0                           1     2   \n",
       "\n",
       "     BusinessAcceptsBitcoin  NoiseLevel  DogsAllowed  HasTV  \n",
       "173                       0         1.0            0      0  \n",
       "250                       0         1.0            0      0  \n",
       "295                       0         1.0            0      0  \n",
       "377                       0         1.0            0      0  \n",
       "491                       0         1.0            0      0  "
      ]
     },
     "execution_count": 45,
     "metadata": {},
     "output_type": "execute_result"
    }
   ],
   "source": [
    "df.head()"
   ]
  },
  {
   "cell_type": "code",
   "execution_count": 46,
   "id": "85ebb637",
   "metadata": {},
   "outputs": [
    {
     "data": {
      "text/plain": [
       "dtype('int64')"
      ]
     },
     "execution_count": 46,
     "metadata": {},
     "output_type": "execute_result"
    }
   ],
   "source": [
    "# A random forest model will be simplest, but first the 'stars' column needs to be whole numbers\n",
    "df['stars'] = (df['stars']*2).astype(int)\n",
    "df['stars'].dtype"
   ]
  },
  {
   "cell_type": "code",
   "execution_count": 47,
   "id": "41910aa0",
   "metadata": {},
   "outputs": [
    {
     "data": {
      "text/plain": [
       "array([10,  7,  8,  9,  6,  5,  4,  3,  2])"
      ]
     },
     "execution_count": 47,
     "metadata": {},
     "output_type": "execute_result"
    }
   ],
   "source": [
    "df['stars'].unique()"
   ]
  },
  {
   "cell_type": "code",
   "execution_count": 48,
   "id": "2481e44d",
   "metadata": {},
   "outputs": [
    {
     "data": {
      "text/plain": [
       "0.2869692532942899"
      ]
     },
     "execution_count": 48,
     "metadata": {},
     "output_type": "execute_result"
    }
   ],
   "source": [
    "# Get train and test sets for modeling\n",
    "X = df.drop(columns='stars')\n",
    "y = df['stars']\n",
    "X_train, X_test, y_train, y_test = train_test_split(X,y,test_size=0.3)\n",
    "\n",
    "# Model the data and see how the model scores\n",
    "rf = RandomForestClassifier(random_state=43)\n",
    "rf.fit(X_train, y_train)\n",
    "y_pred = rf.predict(X_test)\n",
    "metrics.f1_score(y_test, y_pred, average='micro')"
   ]
  },
  {
   "cell_type": "markdown",
   "id": "a5c56e47",
   "metadata": {},
   "source": [
    "<font color='violet'>The moment of truth has arrived. I created a model (not a particularly good one, but fine for my purposes here), and now I can use it to predict what my salon's rating *should* be.<font>"
   ]
  },
  {
   "cell_type": "code",
   "execution_count": 49,
   "id": "7cec3bf1",
   "metadata": {},
   "outputs": [
    {
     "data": {
      "text/html": [
       "<div>\n",
       "<style scoped>\n",
       "    .dataframe tbody tr th:only-of-type {\n",
       "        vertical-align: middle;\n",
       "    }\n",
       "\n",
       "    .dataframe tbody tr th {\n",
       "        vertical-align: top;\n",
       "    }\n",
       "\n",
       "    .dataframe thead th {\n",
       "        text-align: right;\n",
       "    }\n",
       "</style>\n",
       "<table border=\"1\" class=\"dataframe\">\n",
       "  <thead>\n",
       "    <tr style=\"text-align: right;\">\n",
       "      <th></th>\n",
       "      <th>state</th>\n",
       "      <th>review_count</th>\n",
       "      <th>is_open</th>\n",
       "      <th>WheelchairAccessible</th>\n",
       "      <th>BikeParking</th>\n",
       "      <th>ByAppointmentOnly</th>\n",
       "      <th>BusinessAcceptsCreditCards</th>\n",
       "      <th>WiFi</th>\n",
       "      <th>BusinessAcceptsBitcoin</th>\n",
       "      <th>NoiseLevel</th>\n",
       "      <th>DogsAllowed</th>\n",
       "      <th>HasTV</th>\n",
       "    </tr>\n",
       "  </thead>\n",
       "  <tbody>\n",
       "    <tr>\n",
       "      <th>99461</th>\n",
       "      <td>5</td>\n",
       "      <td>85</td>\n",
       "      <td>1</td>\n",
       "      <td>0</td>\n",
       "      <td>0</td>\n",
       "      <td>0</td>\n",
       "      <td>1</td>\n",
       "      <td>0</td>\n",
       "      <td>0</td>\n",
       "      <td>1.0</td>\n",
       "      <td>0</td>\n",
       "      <td>0</td>\n",
       "    </tr>\n",
       "  </tbody>\n",
       "</table>\n",
       "</div>"
      ],
      "text/plain": [
       "       state  review_count  is_open  WheelchairAccessible  BikeParking  \\\n",
       "99461      5            85        1                     0            0   \n",
       "\n",
       "       ByAppointmentOnly  BusinessAcceptsCreditCards  WiFi  \\\n",
       "99461                  0                           1     0   \n",
       "\n",
       "       BusinessAcceptsBitcoin  NoiseLevel  DogsAllowed  HasTV  \n",
       "99461                       0         1.0            0      0  "
      ]
     },
     "execution_count": 49,
     "metadata": {},
     "output_type": "execute_result"
    }
   ],
   "source": [
    "# Create a tiny dataset with just details about my salon. What should my dataframe look like?\n",
    "X_test.head(1)"
   ]
  },
  {
   "cell_type": "code",
   "execution_count": 50,
   "id": "8e40de56",
   "metadata": {},
   "outputs": [
    {
     "data": {
      "text/html": [
       "<div>\n",
       "<style scoped>\n",
       "    .dataframe tbody tr th:only-of-type {\n",
       "        vertical-align: middle;\n",
       "    }\n",
       "\n",
       "    .dataframe tbody tr th {\n",
       "        vertical-align: top;\n",
       "    }\n",
       "\n",
       "    .dataframe thead th {\n",
       "        text-align: right;\n",
       "    }\n",
       "</style>\n",
       "<table border=\"1\" class=\"dataframe\">\n",
       "  <thead>\n",
       "    <tr style=\"text-align: right;\">\n",
       "      <th></th>\n",
       "      <th>state</th>\n",
       "      <th>review_count</th>\n",
       "      <th>is_open</th>\n",
       "      <th>WheelchairAccessible</th>\n",
       "      <th>BikeParking</th>\n",
       "      <th>ByAppointmentOnly</th>\n",
       "      <th>BusinessAcceptsCreditCards</th>\n",
       "      <th>WiFi</th>\n",
       "      <th>BusinessAcceptsBitcoin</th>\n",
       "      <th>NoiseLevel</th>\n",
       "      <th>DogsAllowed</th>\n",
       "      <th>HasTV</th>\n",
       "    </tr>\n",
       "  </thead>\n",
       "  <tbody>\n",
       "    <tr>\n",
       "      <th>0</th>\n",
       "      <td>2</td>\n",
       "      <td>214</td>\n",
       "      <td>1</td>\n",
       "      <td>1</td>\n",
       "      <td>1</td>\n",
       "      <td>0</td>\n",
       "      <td>1</td>\n",
       "      <td>0</td>\n",
       "      <td>0</td>\n",
       "      <td>0</td>\n",
       "      <td>0</td>\n",
       "      <td>0</td>\n",
       "    </tr>\n",
       "  </tbody>\n",
       "</table>\n",
       "</div>"
      ],
      "text/plain": [
       "   state  review_count  is_open  WheelchairAccessible  BikeParking  \\\n",
       "0      2           214        1                     1            1   \n",
       "\n",
       "   ByAppointmentOnly  BusinessAcceptsCreditCards  WiFi  \\\n",
       "0                  0                           1     0   \n",
       "\n",
       "   BusinessAcceptsBitcoin  NoiseLevel  DogsAllowed  HasTV  \n",
       "0                       0           0            0      0  "
      ]
     },
     "execution_count": 50,
     "metadata": {},
     "output_type": "execute_result"
    }
   ],
   "source": [
    "X_mine = pd.DataFrame({'state':[2], 'review_count':[214], 'is_open':[1], \n",
    "                       'WheelchairAccessible':[1], 'BikeParking':[1], 'ByAppointmentOnly':[0], \n",
    "                       'BusinessAcceptsCreditCards':[1], 'WiFi':[0], \n",
    "                       'BusinessAcceptsBitcoin':[0], 'NoiseLevel':[0], 'DogsAllowed':[0],\n",
    "                       'HasTV':[0]})\n",
    "X_mine "
   ]
  },
  {
   "cell_type": "code",
   "execution_count": 51,
   "id": "5b283100",
   "metadata": {},
   "outputs": [
    {
     "data": {
      "text/plain": [
       "array([7])"
      ]
     },
     "execution_count": 51,
     "metadata": {},
     "output_type": "execute_result"
    }
   ],
   "source": [
    "# Make the prediction! Remember to divide the result by 2 for my salon's \"real\" score\n",
    "my_pred = rf.predict(X_mine)\n",
    "my_pred"
   ]
  },
  {
   "cell_type": "markdown",
   "id": "bec3734e",
   "metadata": {},
   "source": [
    "<font color='violet'>Yikes. My salon would be predicted to get a score of 4.5 given its attributes. Maybe the stories I've heard about how Yelp already does anomoly detection are true, and this salon didn't buy their reviews. I think the moral of the story is that I can definitively conclude the salon is homophobic.<font>"
   ]
  },
  {
   "cell_type": "code",
   "execution_count": null,
   "id": "8d1eb5cd",
   "metadata": {},
   "outputs": [],
   "source": []
  }
 ],
 "metadata": {
  "kernelspec": {
   "display_name": "Python 3 (ipykernel)",
   "language": "python",
   "name": "python3"
  },
  "language_info": {
   "codemirror_mode": {
    "name": "ipython",
    "version": 3
   },
   "file_extension": ".py",
   "mimetype": "text/x-python",
   "name": "python",
   "nbconvert_exporter": "python",
   "pygments_lexer": "ipython3",
   "version": "3.9.12"
  }
 },
 "nbformat": 4,
 "nbformat_minor": 5
}
